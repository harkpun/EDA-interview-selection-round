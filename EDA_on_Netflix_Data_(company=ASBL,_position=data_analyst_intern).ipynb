{
  "nbformat": 4,
  "nbformat_minor": 0,
  "metadata": {
    "colab": {
      "provenance": [],
      "authorship_tag": "ABX9TyO4nrUp50/PsyuUm8+QJEJq",
      "include_colab_link": true
    },
    "kernelspec": {
      "name": "python3",
      "display_name": "Python 3"
    },
    "language_info": {
      "name": "python"
    }
  },
  "cells": [
    {
      "cell_type": "markdown",
      "metadata": {
        "id": "view-in-github",
        "colab_type": "text"
      },
      "source": [
        "<a href=\"https://colab.research.google.com/github/harkpun/EDA-interview-selection-round/blob/main/EDA_on_Netflix_Data_(company%3DASBL%2C_position%3Ddata_analyst_intern).ipynb\" target=\"_parent\"><img src=\"https://colab.research.google.com/assets/colab-badge.svg\" alt=\"Open In Colab\"/></a>"
      ]
    },
    {
      "cell_type": "markdown",
      "source": [
        "## **Data Description**\n",
        "Netflix is one of the most popular media and video streaming platforms. This tabular dataset consists of listings of all the movies and tv shows available on Netflix, along with details such as - cast, directors, ratings, release year, duration, etc.\n",
        "\n",
        "## **Task**\n",
        "As a Data Analyst, you need to analyse the data and generate insights that could help Netflix in deciding which type of shows/movies to produce and how they can grow the business in different countries. The dataset provided to you consists of a list of all the TV shows/movies available on Netflix. Here are the attributes or features of the dataset.\n",
        "\n",
        "#### **The following is a list of tasks that I need to complete and have completed.**\n",
        "1. Load the dataset in your environment.\n",
        "2. Perform EDA (exploratory data analysis) on the dataset.\n",
        "3. Plot some meaningful graphs here which convey some insights and those insights businesses can use to further increase their revenue and attract more customers. Make sure that the insights found must be backed up by data and share some recommendations for the stakeholders (The recommendations should be simpler to understand as mostly stakeholders or businesspeople want things to be non-technical so that they are easy to grasp. Do not use much technical jargon and explain in simpler words).\n",
        "4. Find answers to the below questions from this dataset.\n",
        "(Questions which are marked as OPTIONAL if answered will add more marks to your final scoring metrics)\n",
        "    - Which are the top 5 directors who produce most of the movies only?\n",
        "\n",
        "    - Which are the top 5 genres which are liked by people or here liking means listed on the portal of Netflix (you can find a count for each genre and list the top 5 genres) for movies and TV shows?\n",
        "\n",
        "    - Which 2 directors should Netflix collaborate with more based on the increase in their movies or tv shows over the past years? [OPTIONAL]\n",
        "\n",
        "    - Which are the top 10 actors who are liked by people and have the most content on the Netflix OTT platform.\n",
        "\n",
        "    - Which 2 actors should Netflix collaborate with more based on the increase in their movies or tv shows over the past years? [OPTIONAL]"
      ],
      "metadata": {
        "id": "w4EOjBdZK6Mr"
      }
    },
    {
      "cell_type": "markdown",
      "source": [
        "Link of Dataset : https://docs.google.com/spreadsheets/d/1jbuuY1UhH4FCH6-PMjmrEZt5QY_13wj_/edit?usp=sharing&ouid=106020338081215860295&rtpof=true&sd=true\n"
      ],
      "metadata": {
        "id": "xfe-IGISSgcw"
      }
    },
    {
      "cell_type": "markdown",
      "source": [
        "## **1. Understnading Dataset**"
      ],
      "metadata": {
        "id": "3J_d2gtHiXHD"
      }
    },
    {
      "cell_type": "code",
      "execution_count": null,
      "metadata": {
        "id": "qmUXTpZACJIF"
      },
      "outputs": [],
      "source": [
        "# importing necessary libararies\n",
        "import numpy as np\n",
        "import pandas as pd\n",
        "import matplotlib.pyplot as plt\n",
        "import seaborn as sns\n",
        "%matplotlib inline"
      ]
    },
    {
      "cell_type": "code",
      "source": [
        "# mounting notebook on google drive\n",
        "from google.colab import drive\n",
        "drive.mount('/content/drive')"
      ],
      "metadata": {
        "colab": {
          "base_uri": "https://localhost:8080/"
        },
        "id": "F1xXJkHdETTO",
        "outputId": "19a87574-001d-4e8b-9c3b-18eed206c3b6"
      },
      "execution_count": null,
      "outputs": [
        {
          "output_type": "stream",
          "name": "stdout",
          "text": [
            "Drive already mounted at /content/drive; to attempt to forcibly remount, call drive.mount(\"/content/drive\", force_remount=True).\n"
          ]
        }
      ]
    },
    {
      "cell_type": "code",
      "source": [
        "# importing dataset\n",
        "netflix_df = pd.read_excel('/content/drive/MyDrive/DS projects/ASBL - Data Analyst Intern - Assignment/asbl_data_analyst_interview_assignment_netflix.xlsx')"
      ],
      "metadata": {
        "id": "zYWVPEM3EmTu"
      },
      "execution_count": null,
      "outputs": []
    },
    {
      "cell_type": "code",
      "source": [
        "# top 5 rows\n",
        "netflix_df.head()"
      ],
      "metadata": {
        "colab": {
          "base_uri": "https://localhost:8080/",
          "height": 250
        },
        "id": "glDEZVVhFujT",
        "outputId": "53c0b9ef-e791-4080-98fe-8ca7091bc93e"
      },
      "execution_count": null,
      "outputs": [
        {
          "output_type": "execute_result",
          "data": {
            "text/plain": [
              "      Type                  Title         Director  \\\n",
              "0    Movie   Dick Johnson Is Dead  Kirsten Johnson   \n",
              "1  TV Show          Blood & Water              NaN   \n",
              "2  TV Show              Ganglands  Julien Leclercq   \n",
              "3  TV Show  Jailbirds New Orleans              NaN   \n",
              "4  TV Show           Kota Factory              NaN   \n",
              "\n",
              "                                                Cast        Country  \\\n",
              "0                                                NaN  United States   \n",
              "1  Ama Qamata, Khosi Ngema, Gail Mabalane, Thaban...   South Africa   \n",
              "2  Sami Bouajila, Tracy Gotoas, Samuel Jouy, Nabi...            NaN   \n",
              "3                                                NaN            NaN   \n",
              "4  Mayur More, Jitendra Kumar, Ranjan Raj, Alam K...          India   \n",
              "\n",
              "   Release_year                                             Genres  \n",
              "0          2020                                      Documentaries  \n",
              "1          2021    International TV Shows, TV Dramas, TV Mysteries  \n",
              "2          2021  Crime TV Shows, International TV Shows, TV Act...  \n",
              "3          2021                             Docuseries, Reality TV  \n",
              "4          2021  International TV Shows, Romantic TV Shows, TV ...  "
            ],
            "text/html": [
              "\n",
              "  <div id=\"df-82c89eab-b346-4f55-8885-be6bc4c7b987\">\n",
              "    <div class=\"colab-df-container\">\n",
              "      <div>\n",
              "<style scoped>\n",
              "    .dataframe tbody tr th:only-of-type {\n",
              "        vertical-align: middle;\n",
              "    }\n",
              "\n",
              "    .dataframe tbody tr th {\n",
              "        vertical-align: top;\n",
              "    }\n",
              "\n",
              "    .dataframe thead th {\n",
              "        text-align: right;\n",
              "    }\n",
              "</style>\n",
              "<table border=\"1\" class=\"dataframe\">\n",
              "  <thead>\n",
              "    <tr style=\"text-align: right;\">\n",
              "      <th></th>\n",
              "      <th>Type</th>\n",
              "      <th>Title</th>\n",
              "      <th>Director</th>\n",
              "      <th>Cast</th>\n",
              "      <th>Country</th>\n",
              "      <th>Release_year</th>\n",
              "      <th>Genres</th>\n",
              "    </tr>\n",
              "  </thead>\n",
              "  <tbody>\n",
              "    <tr>\n",
              "      <th>0</th>\n",
              "      <td>Movie</td>\n",
              "      <td>Dick Johnson Is Dead</td>\n",
              "      <td>Kirsten Johnson</td>\n",
              "      <td>NaN</td>\n",
              "      <td>United States</td>\n",
              "      <td>2020</td>\n",
              "      <td>Documentaries</td>\n",
              "    </tr>\n",
              "    <tr>\n",
              "      <th>1</th>\n",
              "      <td>TV Show</td>\n",
              "      <td>Blood &amp; Water</td>\n",
              "      <td>NaN</td>\n",
              "      <td>Ama Qamata, Khosi Ngema, Gail Mabalane, Thaban...</td>\n",
              "      <td>South Africa</td>\n",
              "      <td>2021</td>\n",
              "      <td>International TV Shows, TV Dramas, TV Mysteries</td>\n",
              "    </tr>\n",
              "    <tr>\n",
              "      <th>2</th>\n",
              "      <td>TV Show</td>\n",
              "      <td>Ganglands</td>\n",
              "      <td>Julien Leclercq</td>\n",
              "      <td>Sami Bouajila, Tracy Gotoas, Samuel Jouy, Nabi...</td>\n",
              "      <td>NaN</td>\n",
              "      <td>2021</td>\n",
              "      <td>Crime TV Shows, International TV Shows, TV Act...</td>\n",
              "    </tr>\n",
              "    <tr>\n",
              "      <th>3</th>\n",
              "      <td>TV Show</td>\n",
              "      <td>Jailbirds New Orleans</td>\n",
              "      <td>NaN</td>\n",
              "      <td>NaN</td>\n",
              "      <td>NaN</td>\n",
              "      <td>2021</td>\n",
              "      <td>Docuseries, Reality TV</td>\n",
              "    </tr>\n",
              "    <tr>\n",
              "      <th>4</th>\n",
              "      <td>TV Show</td>\n",
              "      <td>Kota Factory</td>\n",
              "      <td>NaN</td>\n",
              "      <td>Mayur More, Jitendra Kumar, Ranjan Raj, Alam K...</td>\n",
              "      <td>India</td>\n",
              "      <td>2021</td>\n",
              "      <td>International TV Shows, Romantic TV Shows, TV ...</td>\n",
              "    </tr>\n",
              "  </tbody>\n",
              "</table>\n",
              "</div>\n",
              "      <button class=\"colab-df-convert\" onclick=\"convertToInteractive('df-82c89eab-b346-4f55-8885-be6bc4c7b987')\"\n",
              "              title=\"Convert this dataframe to an interactive table.\"\n",
              "              style=\"display:none;\">\n",
              "        \n",
              "  <svg xmlns=\"http://www.w3.org/2000/svg\" height=\"24px\"viewBox=\"0 0 24 24\"\n",
              "       width=\"24px\">\n",
              "    <path d=\"M0 0h24v24H0V0z\" fill=\"none\"/>\n",
              "    <path d=\"M18.56 5.44l.94 2.06.94-2.06 2.06-.94-2.06-.94-.94-2.06-.94 2.06-2.06.94zm-11 1L8.5 8.5l.94-2.06 2.06-.94-2.06-.94L8.5 2.5l-.94 2.06-2.06.94zm10 10l.94 2.06.94-2.06 2.06-.94-2.06-.94-.94-2.06-.94 2.06-2.06.94z\"/><path d=\"M17.41 7.96l-1.37-1.37c-.4-.4-.92-.59-1.43-.59-.52 0-1.04.2-1.43.59L10.3 9.45l-7.72 7.72c-.78.78-.78 2.05 0 2.83L4 21.41c.39.39.9.59 1.41.59.51 0 1.02-.2 1.41-.59l7.78-7.78 2.81-2.81c.8-.78.8-2.07 0-2.86zM5.41 20L4 18.59l7.72-7.72 1.47 1.35L5.41 20z\"/>\n",
              "  </svg>\n",
              "      </button>\n",
              "      \n",
              "  <style>\n",
              "    .colab-df-container {\n",
              "      display:flex;\n",
              "      flex-wrap:wrap;\n",
              "      gap: 12px;\n",
              "    }\n",
              "\n",
              "    .colab-df-convert {\n",
              "      background-color: #E8F0FE;\n",
              "      border: none;\n",
              "      border-radius: 50%;\n",
              "      cursor: pointer;\n",
              "      display: none;\n",
              "      fill: #1967D2;\n",
              "      height: 32px;\n",
              "      padding: 0 0 0 0;\n",
              "      width: 32px;\n",
              "    }\n",
              "\n",
              "    .colab-df-convert:hover {\n",
              "      background-color: #E2EBFA;\n",
              "      box-shadow: 0px 1px 2px rgba(60, 64, 67, 0.3), 0px 1px 3px 1px rgba(60, 64, 67, 0.15);\n",
              "      fill: #174EA6;\n",
              "    }\n",
              "\n",
              "    [theme=dark] .colab-df-convert {\n",
              "      background-color: #3B4455;\n",
              "      fill: #D2E3FC;\n",
              "    }\n",
              "\n",
              "    [theme=dark] .colab-df-convert:hover {\n",
              "      background-color: #434B5C;\n",
              "      box-shadow: 0px 1px 3px 1px rgba(0, 0, 0, 0.15);\n",
              "      filter: drop-shadow(0px 1px 2px rgba(0, 0, 0, 0.3));\n",
              "      fill: #FFFFFF;\n",
              "    }\n",
              "  </style>\n",
              "\n",
              "      <script>\n",
              "        const buttonEl =\n",
              "          document.querySelector('#df-82c89eab-b346-4f55-8885-be6bc4c7b987 button.colab-df-convert');\n",
              "        buttonEl.style.display =\n",
              "          google.colab.kernel.accessAllowed ? 'block' : 'none';\n",
              "\n",
              "        async function convertToInteractive(key) {\n",
              "          const element = document.querySelector('#df-82c89eab-b346-4f55-8885-be6bc4c7b987');\n",
              "          const dataTable =\n",
              "            await google.colab.kernel.invokeFunction('convertToInteractive',\n",
              "                                                     [key], {});\n",
              "          if (!dataTable) return;\n",
              "\n",
              "          const docLinkHtml = 'Like what you see? Visit the ' +\n",
              "            '<a target=\"_blank\" href=https://colab.research.google.com/notebooks/data_table.ipynb>data table notebook</a>'\n",
              "            + ' to learn more about interactive tables.';\n",
              "          element.innerHTML = '';\n",
              "          dataTable['output_type'] = 'display_data';\n",
              "          await google.colab.output.renderOutput(dataTable, element);\n",
              "          const docLink = document.createElement('div');\n",
              "          docLink.innerHTML = docLinkHtml;\n",
              "          element.appendChild(docLink);\n",
              "        }\n",
              "      </script>\n",
              "    </div>\n",
              "  </div>\n",
              "  "
            ]
          },
          "metadata": {},
          "execution_count": 148
        }
      ]
    },
    {
      "cell_type": "code",
      "source": [
        "# last 5 rows\n",
        "netflix_df.tail()"
      ],
      "metadata": {
        "colab": {
          "base_uri": "https://localhost:8080/",
          "height": 206
        },
        "id": "Oer65ZjlG68v",
        "outputId": "848e8d8f-d53b-4d20-b6c9-5874915ad85a"
      },
      "execution_count": null,
      "outputs": [
        {
          "output_type": "execute_result",
          "data": {
            "text/plain": [
              "         Type        Title         Director  \\\n",
              "8802    Movie       Zodiac    David Fincher   \n",
              "8803  TV Show  Zombie Dumb              NaN   \n",
              "8804    Movie   Zombieland  Ruben Fleischer   \n",
              "8805    Movie         Zoom     Peter Hewitt   \n",
              "8806    Movie       Zubaan      Mozez Singh   \n",
              "\n",
              "                                                   Cast        Country  \\\n",
              "8802  Mark Ruffalo, Jake Gyllenhaal, Robert Downey J...  United States   \n",
              "8803                                                NaN            NaN   \n",
              "8804  Jesse Eisenberg, Woody Harrelson, Emma Stone, ...  United States   \n",
              "8805  Tim Allen, Courteney Cox, Chevy Chase, Kate Ma...  United States   \n",
              "8806  Vicky Kaushal, Sarah-Jane Dias, Raaghav Chanan...          India   \n",
              "\n",
              "      Release_year                                          Genres  \n",
              "8802          2007                  Cult Movies, Dramas, Thrillers  \n",
              "8803          2018          Kids' TV, Korean TV Shows, TV Comedies  \n",
              "8804          2009                         Comedies, Horror Movies  \n",
              "8805          2006              Children & Family Movies, Comedies  \n",
              "8806          2015  Dramas, International Movies, Music & Musicals  "
            ],
            "text/html": [
              "\n",
              "  <div id=\"df-01397b2c-8482-4fa4-bb2b-6e923024c4d0\">\n",
              "    <div class=\"colab-df-container\">\n",
              "      <div>\n",
              "<style scoped>\n",
              "    .dataframe tbody tr th:only-of-type {\n",
              "        vertical-align: middle;\n",
              "    }\n",
              "\n",
              "    .dataframe tbody tr th {\n",
              "        vertical-align: top;\n",
              "    }\n",
              "\n",
              "    .dataframe thead th {\n",
              "        text-align: right;\n",
              "    }\n",
              "</style>\n",
              "<table border=\"1\" class=\"dataframe\">\n",
              "  <thead>\n",
              "    <tr style=\"text-align: right;\">\n",
              "      <th></th>\n",
              "      <th>Type</th>\n",
              "      <th>Title</th>\n",
              "      <th>Director</th>\n",
              "      <th>Cast</th>\n",
              "      <th>Country</th>\n",
              "      <th>Release_year</th>\n",
              "      <th>Genres</th>\n",
              "    </tr>\n",
              "  </thead>\n",
              "  <tbody>\n",
              "    <tr>\n",
              "      <th>8802</th>\n",
              "      <td>Movie</td>\n",
              "      <td>Zodiac</td>\n",
              "      <td>David Fincher</td>\n",
              "      <td>Mark Ruffalo, Jake Gyllenhaal, Robert Downey J...</td>\n",
              "      <td>United States</td>\n",
              "      <td>2007</td>\n",
              "      <td>Cult Movies, Dramas, Thrillers</td>\n",
              "    </tr>\n",
              "    <tr>\n",
              "      <th>8803</th>\n",
              "      <td>TV Show</td>\n",
              "      <td>Zombie Dumb</td>\n",
              "      <td>NaN</td>\n",
              "      <td>NaN</td>\n",
              "      <td>NaN</td>\n",
              "      <td>2018</td>\n",
              "      <td>Kids' TV, Korean TV Shows, TV Comedies</td>\n",
              "    </tr>\n",
              "    <tr>\n",
              "      <th>8804</th>\n",
              "      <td>Movie</td>\n",
              "      <td>Zombieland</td>\n",
              "      <td>Ruben Fleischer</td>\n",
              "      <td>Jesse Eisenberg, Woody Harrelson, Emma Stone, ...</td>\n",
              "      <td>United States</td>\n",
              "      <td>2009</td>\n",
              "      <td>Comedies, Horror Movies</td>\n",
              "    </tr>\n",
              "    <tr>\n",
              "      <th>8805</th>\n",
              "      <td>Movie</td>\n",
              "      <td>Zoom</td>\n",
              "      <td>Peter Hewitt</td>\n",
              "      <td>Tim Allen, Courteney Cox, Chevy Chase, Kate Ma...</td>\n",
              "      <td>United States</td>\n",
              "      <td>2006</td>\n",
              "      <td>Children &amp; Family Movies, Comedies</td>\n",
              "    </tr>\n",
              "    <tr>\n",
              "      <th>8806</th>\n",
              "      <td>Movie</td>\n",
              "      <td>Zubaan</td>\n",
              "      <td>Mozez Singh</td>\n",
              "      <td>Vicky Kaushal, Sarah-Jane Dias, Raaghav Chanan...</td>\n",
              "      <td>India</td>\n",
              "      <td>2015</td>\n",
              "      <td>Dramas, International Movies, Music &amp; Musicals</td>\n",
              "    </tr>\n",
              "  </tbody>\n",
              "</table>\n",
              "</div>\n",
              "      <button class=\"colab-df-convert\" onclick=\"convertToInteractive('df-01397b2c-8482-4fa4-bb2b-6e923024c4d0')\"\n",
              "              title=\"Convert this dataframe to an interactive table.\"\n",
              "              style=\"display:none;\">\n",
              "        \n",
              "  <svg xmlns=\"http://www.w3.org/2000/svg\" height=\"24px\"viewBox=\"0 0 24 24\"\n",
              "       width=\"24px\">\n",
              "    <path d=\"M0 0h24v24H0V0z\" fill=\"none\"/>\n",
              "    <path d=\"M18.56 5.44l.94 2.06.94-2.06 2.06-.94-2.06-.94-.94-2.06-.94 2.06-2.06.94zm-11 1L8.5 8.5l.94-2.06 2.06-.94-2.06-.94L8.5 2.5l-.94 2.06-2.06.94zm10 10l.94 2.06.94-2.06 2.06-.94-2.06-.94-.94-2.06-.94 2.06-2.06.94z\"/><path d=\"M17.41 7.96l-1.37-1.37c-.4-.4-.92-.59-1.43-.59-.52 0-1.04.2-1.43.59L10.3 9.45l-7.72 7.72c-.78.78-.78 2.05 0 2.83L4 21.41c.39.39.9.59 1.41.59.51 0 1.02-.2 1.41-.59l7.78-7.78 2.81-2.81c.8-.78.8-2.07 0-2.86zM5.41 20L4 18.59l7.72-7.72 1.47 1.35L5.41 20z\"/>\n",
              "  </svg>\n",
              "      </button>\n",
              "      \n",
              "  <style>\n",
              "    .colab-df-container {\n",
              "      display:flex;\n",
              "      flex-wrap:wrap;\n",
              "      gap: 12px;\n",
              "    }\n",
              "\n",
              "    .colab-df-convert {\n",
              "      background-color: #E8F0FE;\n",
              "      border: none;\n",
              "      border-radius: 50%;\n",
              "      cursor: pointer;\n",
              "      display: none;\n",
              "      fill: #1967D2;\n",
              "      height: 32px;\n",
              "      padding: 0 0 0 0;\n",
              "      width: 32px;\n",
              "    }\n",
              "\n",
              "    .colab-df-convert:hover {\n",
              "      background-color: #E2EBFA;\n",
              "      box-shadow: 0px 1px 2px rgba(60, 64, 67, 0.3), 0px 1px 3px 1px rgba(60, 64, 67, 0.15);\n",
              "      fill: #174EA6;\n",
              "    }\n",
              "\n",
              "    [theme=dark] .colab-df-convert {\n",
              "      background-color: #3B4455;\n",
              "      fill: #D2E3FC;\n",
              "    }\n",
              "\n",
              "    [theme=dark] .colab-df-convert:hover {\n",
              "      background-color: #434B5C;\n",
              "      box-shadow: 0px 1px 3px 1px rgba(0, 0, 0, 0.15);\n",
              "      filter: drop-shadow(0px 1px 2px rgba(0, 0, 0, 0.3));\n",
              "      fill: #FFFFFF;\n",
              "    }\n",
              "  </style>\n",
              "\n",
              "      <script>\n",
              "        const buttonEl =\n",
              "          document.querySelector('#df-01397b2c-8482-4fa4-bb2b-6e923024c4d0 button.colab-df-convert');\n",
              "        buttonEl.style.display =\n",
              "          google.colab.kernel.accessAllowed ? 'block' : 'none';\n",
              "\n",
              "        async function convertToInteractive(key) {\n",
              "          const element = document.querySelector('#df-01397b2c-8482-4fa4-bb2b-6e923024c4d0');\n",
              "          const dataTable =\n",
              "            await google.colab.kernel.invokeFunction('convertToInteractive',\n",
              "                                                     [key], {});\n",
              "          if (!dataTable) return;\n",
              "\n",
              "          const docLinkHtml = 'Like what you see? Visit the ' +\n",
              "            '<a target=\"_blank\" href=https://colab.research.google.com/notebooks/data_table.ipynb>data table notebook</a>'\n",
              "            + ' to learn more about interactive tables.';\n",
              "          element.innerHTML = '';\n",
              "          dataTable['output_type'] = 'display_data';\n",
              "          await google.colab.output.renderOutput(dataTable, element);\n",
              "          const docLink = document.createElement('div');\n",
              "          docLink.innerHTML = docLinkHtml;\n",
              "          element.appendChild(docLink);\n",
              "        }\n",
              "      </script>\n",
              "    </div>\n",
              "  </div>\n",
              "  "
            ]
          },
          "metadata": {},
          "execution_count": 149
        }
      ]
    },
    {
      "cell_type": "markdown",
      "source": [
        "####**Size Of Dataset**"
      ],
      "metadata": {
        "id": "cZptpju8zz3y"
      }
    },
    {
      "cell_type": "code",
      "source": [
        "# size of dataset\n",
        "print(f'number of rows : {netflix_df.shape[0]}  \\nnumber of columns : {netflix_df.shape[1]}')"
      ],
      "metadata": {
        "colab": {
          "base_uri": "https://localhost:8080/"
        },
        "id": "z342XBxhIGhG",
        "outputId": "b5bfcf73-ebe4-40f3-d70d-597c15679ded"
      },
      "execution_count": null,
      "outputs": [
        {
          "output_type": "stream",
          "name": "stdout",
          "text": [
            "number of rows : 8807  \n",
            "number of columns : 7\n"
          ]
        }
      ]
    },
    {
      "cell_type": "markdown",
      "source": [
        "#### **Dataset Information**"
      ],
      "metadata": {
        "id": "pDk5MstY0BHw"
      }
    },
    {
      "cell_type": "code",
      "source": [
        "# dataset information\n",
        "netflix_df.info()"
      ],
      "metadata": {
        "colab": {
          "base_uri": "https://localhost:8080/"
        },
        "id": "Dy_6RbFqHgJz",
        "outputId": "e53ffc50-5707-47f8-9358-5c8e1f39a665"
      },
      "execution_count": null,
      "outputs": [
        {
          "output_type": "stream",
          "name": "stdout",
          "text": [
            "<class 'pandas.core.frame.DataFrame'>\n",
            "RangeIndex: 8807 entries, 0 to 8806\n",
            "Data columns (total 7 columns):\n",
            " #   Column        Non-Null Count  Dtype \n",
            "---  ------        --------------  ----- \n",
            " 0   Type          8807 non-null   object\n",
            " 1   Title         8807 non-null   object\n",
            " 2   Director      6173 non-null   object\n",
            " 3   Cast          7982 non-null   object\n",
            " 4   Country       7976 non-null   object\n",
            " 5   Release_year  8807 non-null   int64 \n",
            " 6   Genres        8807 non-null   object\n",
            "dtypes: int64(1), object(6)\n",
            "memory usage: 481.8+ KB\n"
          ]
        }
      ]
    },
    {
      "cell_type": "markdown",
      "source": [
        "- There is NaN/Missing values present in dataset\n",
        "- Most of the dataset contain object data.\n",
        "\n"
      ],
      "metadata": {
        "id": "h_WT3NFqcLe4"
      }
    },
    {
      "cell_type": "markdown",
      "source": [
        "#### **Checking Missing Values**"
      ],
      "metadata": {
        "id": "blF-Up2e0PTC"
      }
    },
    {
      "cell_type": "code",
      "source": [
        "# counting number of misiing values present in dataset\n",
        "netflix_df.isnull().sum()"
      ],
      "metadata": {
        "colab": {
          "base_uri": "https://localhost:8080/"
        },
        "id": "JTPJtKvKHnuE",
        "outputId": "3ebdd8bd-4219-40e5-84f7-9ff1e79987c3"
      },
      "execution_count": null,
      "outputs": [
        {
          "output_type": "execute_result",
          "data": {
            "text/plain": [
              "Type               0\n",
              "Title              0\n",
              "Director        2634\n",
              "Cast             825\n",
              "Country          831\n",
              "Release_year       0\n",
              "Genres             0\n",
              "dtype: int64"
            ]
          },
          "metadata": {},
          "execution_count": 152
        }
      ]
    },
    {
      "cell_type": "markdown",
      "source": [
        "Missing values present in thes columns\n",
        "* 2634 in 'Director'\n",
        "* 825 in 'Cast'\n",
        "* 831 in 'Country'"
      ],
      "metadata": {
        "id": "Io7qhFY401tS"
      }
    },
    {
      "cell_type": "code",
      "source": [
        "# Visualizing the missing values\n",
        "import missingno as msno\n",
        "msno.bar(netflix_df, figsize=(10,5), fontsize=12)"
      ],
      "metadata": {
        "colab": {
          "base_uri": "https://localhost:8080/",
          "height": 430
        },
        "id": "iQ2nilyvKE3X",
        "outputId": "f8eb700d-a29c-4307-a4aa-037dea979994"
      },
      "execution_count": null,
      "outputs": [
        {
          "output_type": "execute_result",
          "data": {
            "text/plain": [
              "<AxesSubplot:>"
            ]
          },
          "metadata": {},
          "execution_count": 153
        },
        {
          "output_type": "display_data",
          "data": {
            "text/plain": [
              "<Figure size 720x360 with 3 Axes>"
            ],
            "image/png": "[encoded data removed]"
          },
          "metadata": {
            "needs_background": "light"
          }
        }
      ]
    },
    {
      "cell_type": "code",
      "source": [
        "# Visualizing the missing values using Heatmap\n",
        "plt.figure(figsize=(10,5))\n",
        "sns.heatmap(netflix_df.isna())"
      ],
      "metadata": {
        "colab": {
          "base_uri": "https://localhost:8080/",
          "height": 343
        },
        "id": "5xNDHNVAKKxL",
        "outputId": "c09596c8-39a7-4453-9ac2-b09c32480e67"
      },
      "execution_count": null,
      "outputs": [
        {
          "output_type": "execute_result",
          "data": {
            "text/plain": [
              "<AxesSubplot:>"
            ]
          },
          "metadata": {},
          "execution_count": 154
        },
        {
          "output_type": "display_data",
          "data": {
            "text/plain": [
              "<Figure size 720x360 with 2 Axes>"
            ],
            "image/png": "[encoded data removed]"
          },
          "metadata": {
            "needs_background": "light"
          }
        }
      ]
    },
    {
      "cell_type": "markdown",
      "source": [
        "- NaN values present in the Director, Cast, Country column.\n",
        "\n",
        "- All the data that we have is related to each specific movie. So, we can't impute any null values with using any method. Also we don't want to loose any data since the data size is small for that reason we simply impute nan values with empty string in below procedure after analyzing each columns."
      ],
      "metadata": {
        "id": "dgRJufa-3E_1"
      }
    },
    {
      "cell_type": "markdown",
      "source": [
        "## **2. Understanding Attributes**\n",
        "\n",
        "### **Attributes Information**\n",
        "\n",
        "**Type**: Whether the content is a Movie or TV Show\n",
        "\n",
        "**Title**: Title of the Movie / TV Show\n",
        "\n",
        "**Director**: Director of the Movie. There can be multiple directors also.\n",
        "\n",
        "**Cast**: Actors involved in the movie/show\n",
        "\n",
        "**Country**: The country where the movie/show was produced\n",
        "\n",
        "**Release_year**: Actual Release year of the movie or tv show\n",
        "\n",
        "**Genres**: Genre or Genres of the content (there can be multiple genres as well say the movie Avengers is Sci-Fi but it is Action and Adventure too)"
      ],
      "metadata": {
        "id": "QGjp-zibMOo1"
      }
    },
    {
      "cell_type": "code",
      "source": [
        "# attaributes name\n",
        "netflix_df.columns"
      ],
      "metadata": {
        "colab": {
          "base_uri": "https://localhost:8080/"
        },
        "id": "xZ5rNk-gKVdh",
        "outputId": "8a50afb3-70b7-4054-8af3-3167692b068a"
      },
      "execution_count": null,
      "outputs": [
        {
          "output_type": "execute_result",
          "data": {
            "text/plain": [
              "Index(['Type', 'Title', 'Director', 'Cast', 'Country', 'Release_year',\n",
              "       'Genres'],\n",
              "      dtype='object')"
            ]
          },
          "metadata": {},
          "execution_count": 155
        }
      ]
    },
    {
      "cell_type": "code",
      "source": [
        "# statistical summary\n",
        "netflix_df.describe(include='all').transpose()"
      ],
      "metadata": {
        "colab": {
          "base_uri": "https://localhost:8080/",
          "height": 269
        },
        "id": "ck4YMPTWMoFJ",
        "outputId": "d44cb4c0-c90d-42c5-8519-5ab1b2241bb0"
      },
      "execution_count": null,
      "outputs": [
        {
          "output_type": "execute_result",
          "data": {
            "text/plain": [
              "               count unique                           top  freq         mean  \\\n",
              "Type            8807      2                         Movie  6131          NaN   \n",
              "Title           8807   8807          Dick Johnson Is Dead     1          NaN   \n",
              "Director        6173   4528                 Rajiv Chilaka    19          NaN   \n",
              "Cast            7982   7692            David Attenborough    19          NaN   \n",
              "Country         7976    748                 United States  2818          NaN   \n",
              "Release_year  8807.0    NaN                           NaN   NaN  2014.180198   \n",
              "Genres          8807    514  Dramas, International Movies   362          NaN   \n",
              "\n",
              "                   std     min     25%     50%     75%     max  \n",
              "Type               NaN     NaN     NaN     NaN     NaN     NaN  \n",
              "Title              NaN     NaN     NaN     NaN     NaN     NaN  \n",
              "Director           NaN     NaN     NaN     NaN     NaN     NaN  \n",
              "Cast               NaN     NaN     NaN     NaN     NaN     NaN  \n",
              "Country            NaN     NaN     NaN     NaN     NaN     NaN  \n",
              "Release_year  8.819312  1925.0  2013.0  2017.0  2019.0  2021.0  \n",
              "Genres             NaN     NaN     NaN     NaN     NaN     NaN  "
            ],
            "text/html": [
              "\n",
              "  <div id=\"df-5a670851-330c-40e9-b6ff-1880f7c6acca\">\n",
              "    <div class=\"colab-df-container\">\n",
              "      <div>\n",
              "<style scoped>\n",
              "    .dataframe tbody tr th:only-of-type {\n",
              "        vertical-align: middle;\n",
              "    }\n",
              "\n",
              "    .dataframe tbody tr th {\n",
              "        vertical-align: top;\n",
              "    }\n",
              "\n",
              "    .dataframe thead th {\n",
              "        text-align: right;\n",
              "    }\n",
              "</style>\n",
              "<table border=\"1\" class=\"dataframe\">\n",
              "  <thead>\n",
              "    <tr style=\"text-align: right;\">\n",
              "      <th></th>\n",
              "      <th>count</th>\n",
              "      <th>unique</th>\n",
              "      <th>top</th>\n",
              "      <th>freq</th>\n",
              "      <th>mean</th>\n",
              "      <th>std</th>\n",
              "      <th>min</th>\n",
              "      <th>25%</th>\n",
              "      <th>50%</th>\n",
              "      <th>75%</th>\n",
              "      <th>max</th>\n",
              "    </tr>\n",
              "  </thead>\n",
              "  <tbody>\n",
              "    <tr>\n",
              "      <th>Type</th>\n",
              "      <td>8807</td>\n",
              "      <td>2</td>\n",
              "      <td>Movie</td>\n",
              "      <td>6131</td>\n",
              "      <td>NaN</td>\n",
              "      <td>NaN</td>\n",
              "      <td>NaN</td>\n",
              "      <td>NaN</td>\n",
              "      <td>NaN</td>\n",
              "      <td>NaN</td>\n",
              "      <td>NaN</td>\n",
              "    </tr>\n",
              "    <tr>\n",
              "      <th>Title</th>\n",
              "      <td>8807</td>\n",
              "      <td>8807</td>\n",
              "      <td>Dick Johnson Is Dead</td>\n",
              "      <td>1</td>\n",
              "      <td>NaN</td>\n",
              "      <td>NaN</td>\n",
              "      <td>NaN</td>\n",
              "      <td>NaN</td>\n",
              "      <td>NaN</td>\n",
              "      <td>NaN</td>\n",
              "      <td>NaN</td>\n",
              "    </tr>\n",
              "    <tr>\n",
              "      <th>Director</th>\n",
              "      <td>6173</td>\n",
              "      <td>4528</td>\n",
              "      <td>Rajiv Chilaka</td>\n",
              "      <td>19</td>\n",
              "      <td>NaN</td>\n",
              "      <td>NaN</td>\n",
              "      <td>NaN</td>\n",
              "      <td>NaN</td>\n",
              "      <td>NaN</td>\n",
              "      <td>NaN</td>\n",
              "      <td>NaN</td>\n",
              "    </tr>\n",
              "    <tr>\n",
              "      <th>Cast</th>\n",
              "      <td>7982</td>\n",
              "      <td>7692</td>\n",
              "      <td>David Attenborough</td>\n",
              "      <td>19</td>\n",
              "      <td>NaN</td>\n",
              "      <td>NaN</td>\n",
              "      <td>NaN</td>\n",
              "      <td>NaN</td>\n",
              "      <td>NaN</td>\n",
              "      <td>NaN</td>\n",
              "      <td>NaN</td>\n",
              "    </tr>\n",
              "    <tr>\n",
              "      <th>Country</th>\n",
              "      <td>7976</td>\n",
              "      <td>748</td>\n",
              "      <td>United States</td>\n",
              "      <td>2818</td>\n",
              "      <td>NaN</td>\n",
              "      <td>NaN</td>\n",
              "      <td>NaN</td>\n",
              "      <td>NaN</td>\n",
              "      <td>NaN</td>\n",
              "      <td>NaN</td>\n",
              "      <td>NaN</td>\n",
              "    </tr>\n",
              "    <tr>\n",
              "      <th>Release_year</th>\n",
              "      <td>8807.0</td>\n",
              "      <td>NaN</td>\n",
              "      <td>NaN</td>\n",
              "      <td>NaN</td>\n",
              "      <td>2014.180198</td>\n",
              "      <td>8.819312</td>\n",
              "      <td>1925.0</td>\n",
              "      <td>2013.0</td>\n",
              "      <td>2017.0</td>\n",
              "      <td>2019.0</td>\n",
              "      <td>2021.0</td>\n",
              "    </tr>\n",
              "    <tr>\n",
              "      <th>Genres</th>\n",
              "      <td>8807</td>\n",
              "      <td>514</td>\n",
              "      <td>Dramas, International Movies</td>\n",
              "      <td>362</td>\n",
              "      <td>NaN</td>\n",
              "      <td>NaN</td>\n",
              "      <td>NaN</td>\n",
              "      <td>NaN</td>\n",
              "      <td>NaN</td>\n",
              "      <td>NaN</td>\n",
              "      <td>NaN</td>\n",
              "    </tr>\n",
              "  </tbody>\n",
              "</table>\n",
              "</div>\n",
              "      <button class=\"colab-df-convert\" onclick=\"convertToInteractive('df-5a670851-330c-40e9-b6ff-1880f7c6acca')\"\n",
              "              title=\"Convert this dataframe to an interactive table.\"\n",
              "              style=\"display:none;\">\n",
              "        \n",
              "  <svg xmlns=\"http://www.w3.org/2000/svg\" height=\"24px\"viewBox=\"0 0 24 24\"\n",
              "       width=\"24px\">\n",
              "    <path d=\"M0 0h24v24H0V0z\" fill=\"none\"/>\n",
              "    <path d=\"M18.56 5.44l.94 2.06.94-2.06 2.06-.94-2.06-.94-.94-2.06-.94 2.06-2.06.94zm-11 1L8.5 8.5l.94-2.06 2.06-.94-2.06-.94L8.5 2.5l-.94 2.06-2.06.94zm10 10l.94 2.06.94-2.06 2.06-.94-2.06-.94-.94-2.06-.94 2.06-2.06.94z\"/><path d=\"M17.41 7.96l-1.37-1.37c-.4-.4-.92-.59-1.43-.59-.52 0-1.04.2-1.43.59L10.3 9.45l-7.72 7.72c-.78.78-.78 2.05 0 2.83L4 21.41c.39.39.9.59 1.41.59.51 0 1.02-.2 1.41-.59l7.78-7.78 2.81-2.81c.8-.78.8-2.07 0-2.86zM5.41 20L4 18.59l7.72-7.72 1.47 1.35L5.41 20z\"/>\n",
              "  </svg>\n",
              "      </button>\n",
              "      \n",
              "  <style>\n",
              "    .colab-df-container {\n",
              "      display:flex;\n",
              "      flex-wrap:wrap;\n",
              "      gap: 12px;\n",
              "    }\n",
              "\n",
              "    .colab-df-convert {\n",
              "      background-color: #E8F0FE;\n",
              "      border: none;\n",
              "      border-radius: 50%;\n",
              "      cursor: pointer;\n",
              "      display: none;\n",
              "      fill: #1967D2;\n",
              "      height: 32px;\n",
              "      padding: 0 0 0 0;\n",
              "      width: 32px;\n",
              "    }\n",
              "\n",
              "    .colab-df-convert:hover {\n",
              "      background-color: #E2EBFA;\n",
              "      box-shadow: 0px 1px 2px rgba(60, 64, 67, 0.3), 0px 1px 3px 1px rgba(60, 64, 67, 0.15);\n",
              "      fill: #174EA6;\n",
              "    }\n",
              "\n",
              "    [theme=dark] .colab-df-convert {\n",
              "      background-color: #3B4455;\n",
              "      fill: #D2E3FC;\n",
              "    }\n",
              "\n",
              "    [theme=dark] .colab-df-convert:hover {\n",
              "      background-color: #434B5C;\n",
              "      box-shadow: 0px 1px 3px 1px rgba(0, 0, 0, 0.15);\n",
              "      filter: drop-shadow(0px 1px 2px rgba(0, 0, 0, 0.3));\n",
              "      fill: #FFFFFF;\n",
              "    }\n",
              "  </style>\n",
              "\n",
              "      <script>\n",
              "        const buttonEl =\n",
              "          document.querySelector('#df-5a670851-330c-40e9-b6ff-1880f7c6acca button.colab-df-convert');\n",
              "        buttonEl.style.display =\n",
              "          google.colab.kernel.accessAllowed ? 'block' : 'none';\n",
              "\n",
              "        async function convertToInteractive(key) {\n",
              "          const element = document.querySelector('#df-5a670851-330c-40e9-b6ff-1880f7c6acca');\n",
              "          const dataTable =\n",
              "            await google.colab.kernel.invokeFunction('convertToInteractive',\n",
              "                                                     [key], {});\n",
              "          if (!dataTable) return;\n",
              "\n",
              "          const docLinkHtml = 'Like what you see? Visit the ' +\n",
              "            '<a target=\"_blank\" href=https://colab.research.google.com/notebooks/data_table.ipynb>data table notebook</a>'\n",
              "            + ' to learn more about interactive tables.';\n",
              "          element.innerHTML = '';\n",
              "          dataTable['output_type'] = 'display_data';\n",
              "          await google.colab.output.renderOutput(dataTable, element);\n",
              "          const docLink = document.createElement('div');\n",
              "          docLink.innerHTML = docLinkHtml;\n",
              "          element.appendChild(docLink);\n",
              "        }\n",
              "      </script>\n",
              "    </div>\n",
              "  </div>\n",
              "  "
            ]
          },
          "metadata": {},
          "execution_count": 156
        }
      ]
    },
    {
      "cell_type": "code",
      "source": [
        "# counting unique value present in each attributes\n",
        "netflix_df.nunique()"
      ],
      "metadata": {
        "colab": {
          "base_uri": "https://localhost:8080/"
        },
        "id": "oaBVQ73iMtkB",
        "outputId": "e7face49-d802-4b86-9269-38ffd889d183"
      },
      "execution_count": null,
      "outputs": [
        {
          "output_type": "execute_result",
          "data": {
            "text/plain": [
              "Type               2\n",
              "Title           8807\n",
              "Director        4528\n",
              "Cast            7692\n",
              "Country          748\n",
              "Release_year      74\n",
              "Genres           514\n",
              "dtype: int64"
            ]
          },
          "metadata": {},
          "execution_count": 157
        }
      ]
    },
    {
      "cell_type": "markdown",
      "source": [
        "## **3. Exploratery Data Analysis**\n",
        "Exploratory Data Analysis (EDA) is the very first step before you can perform any changes to the dataset or develop a statistical model to answer business problems. In other words, the process of EDA contains summarizing, visualizing and getting deeply acquainted with the important traits of a data set."
      ],
      "metadata": {
        "id": "5ALVpy1zRHB_"
      }
    },
    {
      "cell_type": "markdown",
      "source": [
        "### **3.1 Type column**"
      ],
      "metadata": {
        "id": "TUHj_2-JRSwn"
      }
    },
    {
      "cell_type": "code",
      "source": [
        "# Create a figure with two subplots\n",
        "fig,ax = plt.subplots(1,2, figsize=(14,5))\n",
        "\n",
        "# plot coutplot for content types\n",
        "graph = sns.countplot(x=netflix_df['Type'], ax=ax[0])\n",
        "graph.set_title('Values Count', size=18)\n",
        "\n",
        "# plot piechart for content types\n",
        "netflix_df['Type'].value_counts().plot(kind='pie', autopct='%1.2f%%', ax=ax[1])\n",
        "plt.title('Percentage Distribution', size=18)\n",
        "\n",
        "plt.tight_layout()\n",
        "plt.show()"
      ],
      "metadata": {
        "colab": {
          "base_uri": "https://localhost:8080/",
          "height": 369
        },
        "id": "FvEZnoqaRL5c",
        "outputId": "21a9e125-ee51-45d1-f611-048f4d71deb8"
      },
      "execution_count": null,
      "outputs": [
        {
          "output_type": "display_data",
          "data": {
            "text/plain": [
              "<Figure size 1008x360 with 2 Axes>"
            ],
            "image/png": "[encoded data removed]"
          },
          "metadata": {
            "needs_background": "light"
          }
        }
      ]
    },
    {
      "cell_type": "markdown",
      "source": [
        "\n",
        "**Inferences:**\n",
        "- Based on the insights that most people prefer movies over TV shows due to time commitment, and that the majority of Netflix subscribers are in the 18-30 age group who are working professionals, businesses,\n",
        "- Netflix should focus on offering more movie options to Netflix subscribers in order to increase customer retention."
      ],
      "metadata": {
        "id": "vsLtuLm7SDU2"
      }
    },
    {
      "cell_type": "markdown",
      "source": [
        "### **3.2 Title column**"
      ],
      "metadata": {
        "id": "eArbJ7HrR1Gk"
      }
    },
    {
      "cell_type": "code",
      "source": [
        "# Word Cloud library\n",
        "from wordcloud import WordCloud, STOPWORDS\n",
        "\n",
        "# text documents\n",
        "text = \" \".join(word for word in netflix_df['Title'])\n",
        "\n",
        "# create the word cloud\n",
        "wordcloud = WordCloud(stopwords=STOPWORDS).generate(text)\n",
        "\n",
        "# plot the word cloud\n",
        "plt.imshow(wordcloud, interpolation='bilinear')\n",
        "plt.axis(\"off\")\n",
        "plt.show()"
      ],
      "metadata": {
        "colab": {
          "base_uri": "https://localhost:8080/",
          "height": 198
        },
        "id": "D810tfzxRd73",
        "outputId": "642ccd14-0f02-4c89-eac0-40b6548de39d"
      },
      "execution_count": null,
      "outputs": [
        {
          "output_type": "display_data",
          "data": {
            "text/plain": [
              "<Figure size 432x288 with 1 Axes>"
            ],
            "image/png": "[encoded data removed]"
          },
          "metadata": {
            "needs_background": "light"
          }
        }
      ]
    },
    {
      "cell_type": "markdown",
      "source": [
        "**Inferences:**\n",
        "- Based on the observation that words like \"Love,\" \"Life,\" \"Man,\" \"Girl,\" \"Story,\" and \"World\" appear frequently in the movie title column, Netflix can consider using these popular words to potentially create more appealing and attention-grabbing titles for their movies.\n",
        "- Utilizing popular words and phrases can help attract viewers and make it easier for them to find content that is relevant to their interests."
      ],
      "metadata": {
        "id": "8xhvnt3heEmc"
      }
    },
    {
      "cell_type": "markdown",
      "source": [
        "### **3.3 Director column**\n"
      ],
      "metadata": {
        "id": "uCIiIm7zSWX_"
      }
    },
    {
      "cell_type": "code",
      "source": [
        "# splitting Director in \"Director\" column by comma\n",
        "top_director = netflix_df['Director'].str.split(', ').explode().dropna()\n",
        "\n",
        "# top director over past year\n",
        "top_director.value_counts()"
      ],
      "metadata": {
        "colab": {
          "base_uri": "https://localhost:8080/"
        },
        "id": "TFl0NHx3L_TW",
        "outputId": "1b39e474-6aa3-4ce2-c1b2-2bf1493e9182"
      },
      "execution_count": null,
      "outputs": [
        {
          "output_type": "execute_result",
          "data": {
            "text/plain": [
              "Rajiv Chilaka     22\n",
              "Jan Suter         21\n",
              "Raúl Campos       19\n",
              "Suhas Kadav       16\n",
              "Marcus Raboy      16\n",
              "                  ..\n",
              "Raymie Muzquiz     1\n",
              "Stu Livingston     1\n",
              "Joe Menendez       1\n",
              "Eric Bross         1\n",
              "Mozez Singh        1\n",
              "Name: Director, Length: 4993, dtype: int64"
            ]
          },
          "metadata": {},
          "execution_count": 166
        }
      ]
    },
    {
      "cell_type": "code",
      "source": [
        "print(f'number of unique classes : {netflix_df.Director.nunique()}')\n",
        "print(f'counting null value : {netflix_df.Director.isna().sum()}')"
      ],
      "metadata": {
        "colab": {
          "base_uri": "https://localhost:8080/"
        },
        "id": "J40w0TwMRqUH",
        "outputId": "d93a2a72-2d38-4bce-aecb-e2636665374d"
      },
      "execution_count": null,
      "outputs": [
        {
          "output_type": "stream",
          "name": "stdout",
          "text": [
            "number of unique classes : 4528\n",
            "counting null value : 2634\n"
          ]
        }
      ]
    },
    {
      "cell_type": "code",
      "source": [
        "# counting number of Movies directed by director\n",
        "Movie_count = netflix_df[netflix_df['Type']=='Movie']['Director'].value_counts()\n",
        "print(f'Movie directed by director : {Movie_count.sum()}')\n",
        "\n",
        "# counting number of TV Shows directed by director\n",
        "TVshow_count = netflix_df[netflix_df['Type']=='TV Show']['Director'].value_counts()\n",
        "print(f'TV show directed by director : {TVshow_count.sum()}')"
      ],
      "metadata": {
        "colab": {
          "base_uri": "https://localhost:8080/"
        },
        "id": "UxxWG4cCSso7",
        "outputId": "37764a1f-845b-4fe7-9e45-01ce104076a5"
      },
      "execution_count": null,
      "outputs": [
        {
          "output_type": "stream",
          "name": "stdout",
          "text": [
            "Movie directed by director : 5943\n",
            "TV show directed by director : 230\n"
          ]
        },
        {
          "output_type": "execute_result",
          "data": {
            "text/plain": [
              "Rajiv Chilaka             19\n",
              "Raúl Campos, Jan Suter    18\n",
              "Suhas Kadav               16\n",
              "Marcus Raboy              15\n",
              "Jay Karas                 14\n",
              "Name: Director, dtype: int64"
            ]
          },
          "metadata": {},
          "execution_count": 170
        }
      ]
    },
    {
      "cell_type": "markdown",
      "source": [
        "- There are many missing values present in the \"Director\" column of the TV show dataset"
      ],
      "metadata": {
        "id": "XeCIIjuNMsoD"
      }
    },
    {
      "cell_type": "code",
      "source": [
        "# Create a figure with two subplots\n",
        "fig,ax = plt.subplots(1,2, figsize=(16,5))\n",
        "\n",
        "# top 10 director who directed movie\n",
        "movie = Movie_count[:10].plot(kind='barh', ax=ax[1])\n",
        "movie.set_title('top 10 director who directed Movie', size=15)\n",
        "\n",
        "# top 10 director who directed TV show\n",
        "show = TVshow_count[:10].plot(kind='barh', ax=ax[0])\n",
        "show.set_title('top 10 director who directed TV Show', size=15)\n",
        "\n",
        "plt.tight_layout()\n",
        "plt.show()"
      ],
      "metadata": {
        "colab": {
          "base_uri": "https://localhost:8080/",
          "height": 369
        },
        "id": "X6_4EHZlUqSq",
        "outputId": "e229da27-db3c-4fe3-bd42-f35631f8c18e"
      },
      "execution_count": null,
      "outputs": [
        {
          "output_type": "display_data",
          "data": {
            "text/plain": [
              "<Figure size 1152x360 with 2 Axes>"
            ],
            "image/png": "[encoded data removed]"
          },
          "metadata": {
            "needs_background": "light"
          }
        }
      ]
    },
    {
      "cell_type": "markdown",
      "source": [
        "**Inferences :**\n",
        "- Based on the insights that Alastair Fothergrill, Rob Seidenglanz, and Rajiv Chikala directed the most shows in the dataset and Rajiv Chikala, Raul Campose and Jan Suter directed the most movies, it is suggested that the Netflix production team consider hiring these directors for future projects.\n",
        "- These directors have proven to be successful in their respective fields, and their knowledge can potentially contribute to the success of future projects.\n",
        "\n"
      ],
      "metadata": {
        "id": "vVleZORjafKU"
      }
    },
    {
      "cell_type": "markdown",
      "source": [
        "### **3.4 Cast column**"
      ],
      "metadata": {
        "id": "GhUcBStHa-A8"
      }
    },
    {
      "cell_type": "code",
      "source": [
        "# splitting cast in \"Cast\" column by comma\n",
        "cast = netflix_df['Cast'].str.split(', ').explode().dropna()\n",
        "\n",
        "# top ten cast name who play highest role in movie/show.\n",
        "cast.value_counts()[:10]"
      ],
      "metadata": {
        "colab": {
          "base_uri": "https://localhost:8080/"
        },
        "id": "Dp0PaXUigM49",
        "outputId": "d2aee499-4e25-42e6-a43c-559858163d0a"
      },
      "execution_count": null,
      "outputs": [
        {
          "output_type": "execute_result",
          "data": {
            "text/plain": [
              "Anupam Kher         43\n",
              "Shah Rukh Khan      35\n",
              "Julie Tejwani       33\n",
              "Naseeruddin Shah    32\n",
              "Takahiro Sakurai    32\n",
              "Rupa Bhimani        31\n",
              "Akshay Kumar        30\n",
              "Om Puri             30\n",
              "Yuki Kaji           29\n",
              "Paresh Rawal        28\n",
              "Name: Cast, dtype: int64"
            ]
          },
          "metadata": {},
          "execution_count": 164
        }
      ]
    },
    {
      "cell_type": "code",
      "source": [
        "# top actor who played most in TV Shows\n",
        "top_TVshows_actor = netflix_df[netflix_df['Type']=='TV Show']['Cast'].str.split(', ').explode().dropna().value_counts()\n",
        "\n",
        "# top actor who played most in Movies\n",
        "top_Movie_actor = netflix_df[netflix_df['Type']=='Movie']['Cast'].str.split(', ').explode().dropna().value_counts()"
      ],
      "metadata": {
        "id": "ZzAnrMy4mmxe"
      },
      "execution_count": null,
      "outputs": []
    },
    {
      "cell_type": "code",
      "source": [
        "# Create a figure with two subplots\n",
        "fig,ax = plt.subplots(1,2, figsize=(18,5))\n",
        "\n",
        "# plotting actor who played highest number of TV Show\n",
        "a = top_TVshows_actor.head(10).plot(kind='barh', ax=ax[0])\n",
        "a.set_title('top 10 TVshows actor', size=15)\n",
        "\n",
        "# plotting actor who played highest number of Movie\n",
        "b = top_Movie_actor.head(10).plot(kind='barh', ax=ax[1])\n",
        "b.set_title('top 10 Movie actor', size=15)\n",
        "\n",
        "plt.tight_layout()\n",
        "plt.show()"
      ],
      "metadata": {
        "colab": {
          "base_uri": "https://localhost:8080/",
          "height": 365
        },
        "id": "qvjY6Oo6fvJp",
        "outputId": "fcd540a7-e11f-4ae7-f58c-0cd3a0dc29c1"
      },
      "execution_count": null,
      "outputs": [
        {
          "output_type": "display_data",
          "data": {
            "text/plain": [
              "<Figure size 1296x360 with 2 Axes>"
            ],
            "image/png": "[encoded data removed]"
          },
          "metadata": {
            "needs_background": "light"
          }
        }
      ]
    },
    {
      "cell_type": "markdown",
      "source": [
        "**Inferences :**\n",
        "- Based on the observation that Takahiro Sakurai, Yuki Kaji, and Daisuke Ono played the highest number of roles in TV shows, Netflix can consider featuring these popular voice actors in their anime and animation content to potentially attract viewers who are fans of their work.\n",
        "- Anupam Kher, Shahrukh Khan, and Naseeruddin Shah played the highest number of roles in movies, Netflix can collaborate with these popular actors in upcoming Indian film productions, or showcase their past works to target audiences who appreciate their performances.\n",
        "- Overall, using the popularity of these actors can potentially boost the viewership and success of Netflix's content."
      ],
      "metadata": {
        "id": "l9fKdgp6fa7C"
      }
    },
    {
      "cell_type": "markdown",
      "source": [
        "### **3.5 Country column**"
      ],
      "metadata": {
        "id": "uCaFbgmLjfpS"
      }
    },
    {
      "cell_type": "code",
      "source": [
        "# splitting country in \"Coutry\" column by comma\n",
        "country = netflix_df['Country'].str.split(', ').explode().dropna().value_counts()\n",
        "country"
      ],
      "metadata": {
        "colab": {
          "base_uri": "https://localhost:8080/"
        },
        "id": "j7lCZtRwl7bb",
        "outputId": "19a7f3a0-3765-4eab-f7c9-eda656297e5b"
      },
      "execution_count": null,
      "outputs": [
        {
          "output_type": "execute_result",
          "data": {
            "text/plain": [
              "United States     3689\n",
              "India             1046\n",
              "United Kingdom     804\n",
              "Canada             445\n",
              "France             393\n",
              "                  ... \n",
              "Bermuda              1\n",
              "Ecuador              1\n",
              "Armenia              1\n",
              "Mongolia             1\n",
              "Montenegro           1\n",
              "Name: Country, Length: 127, dtype: int64"
            ]
          },
          "metadata": {},
          "execution_count": 28
        }
      ]
    },
    {
      "cell_type": "code",
      "source": [
        "# Create a figure with two subplots\n",
        "fig, ax = plt.subplots(1, 2, figsize=(18, 6))\n",
        "plt.suptitle('Top 10 Countries with the Highest Number of Movies/TV Shows', weight='bold', size=15)\n",
        "\n",
        "# Plot the top 10 countries with the highest number of movies/shows\n",
        "country.nlargest(10).plot(kind='barh', ax=ax[0])\n",
        "\n",
        "# Plot the number of movies and shows for each of the top 10 countries\n",
        "graph = sns.countplot(x=\"Country\", data=netflix_df, hue='Type', order=country.index[0:10], ax=ax[1])\n",
        "plt.xticks(rotation=90)\n",
        "\n",
        "plt.tight_layout()\n",
        "plt.show()\n"
      ],
      "metadata": {
        "colab": {
          "base_uri": "https://localhost:8080/",
          "height": 439
        },
        "id": "DoD2T5UzkXMq",
        "outputId": "3818693b-d559-4799-f410-f4c059e1a8b2"
      },
      "execution_count": null,
      "outputs": [
        {
          "output_type": "display_data",
          "data": {
            "text/plain": [
              "<Figure size 1296x432 with 2 Axes>"
            ],
            "image/png": "[encoded data removed]"
          },
          "metadata": {
            "needs_background": "light"
          }
        }
      ]
    },
    {
      "cell_type": "markdown",
      "source": [
        "**Inferences :**\n",
        "- To satisfy viewers' interests, Netflix should continue to invest in creating content from popular regions such as the United States, India, and the United Kingdom.\n",
        "- Netflix may consider investing in film production in order to meet the preferences of viewers in India and the United States.\n",
        "- In terms of TV shows, Netflix can focus on acquiring more productions from popular regions such as South Korea and Japan, as well as investing in original content in these genres.\n",
        "- Overall, focusing on creating content from popular regions and genres can potentially attract more viewers and increase the success of Netflix's productions."
      ],
      "metadata": {
        "id": "pqWf5lk_fyjT"
      }
    },
    {
      "cell_type": "code",
      "source": [
        "# % share of movies / tv shows by top 10 countries\n",
        "netflix_df['Country'].value_counts().nlargest(5).sum()/len(netflix_df)*100"
      ],
      "metadata": {
        "colab": {
          "base_uri": "https://localhost:8080/"
        },
        "id": "xFr2sFzDlkm2",
        "outputId": "4eed3fde-c1aa-46e7-f394-aa90d38ef704"
      },
      "execution_count": null,
      "outputs": [
        {
          "output_type": "execute_result",
          "data": {
            "text/plain": [
              "52.832973770864086"
            ]
          },
          "metadata": {},
          "execution_count": 30
        }
      ]
    },
    {
      "cell_type": "markdown",
      "source": [
        "- The top 3 countries together account for about 52% of all movies and TV shows in the dataset."
      ],
      "metadata": {
        "id": "xP-uIGEsgAb7"
      }
    },
    {
      "cell_type": "markdown",
      "source": [
        "### **3.6 Release_year column**"
      ],
      "metadata": {
        "id": "JLoo6dZVtfKj"
      }
    },
    {
      "cell_type": "code",
      "source": [
        "print(f'oldest record of movie/show release year : {netflix_df.Release_year.min()}')\n",
        "print(f'latest record of movie/show release yesr : {netflix_df.Release_year.max()}')"
      ],
      "metadata": {
        "colab": {
          "base_uri": "https://localhost:8080/"
        },
        "id": "Fjjh2w2SlwG6",
        "outputId": "5b0ee405-615d-4a85-e090-40bbd2b17dde"
      },
      "execution_count": null,
      "outputs": [
        {
          "output_type": "stream",
          "name": "stdout",
          "text": [
            "oldest record of movie/show release year : 1925\n",
            "latest record of movie/show release yesr : 2021\n"
          ]
        }
      ]
    },
    {
      "cell_type": "code",
      "source": [
        "# Create a figure with two subplots\n",
        "fig,ax = plt.subplots(1,2, figsize=(16,5))\n",
        "\n",
        "# data distibution\n",
        "hist = sns.histplot(netflix_df['Release_year'], ax=ax[0])\n",
        "hist.set_title('Content released over the year', size=15)\n",
        "\n",
        "# top 15 country who released highest number of Movie and TV show\n",
        "count = sns.countplot(x=\"Release_year\", hue='Type', data=netflix_df, order=netflix_df['Release_year'].value_counts().index[0:15], ax=ax[1])\n",
        "count.set_title('movie/shows release in top 15 year', size=15)\n",
        "\n",
        "plt.tight_layout()\n",
        "plt.show()"
      ],
      "metadata": {
        "colab": {
          "base_uri": "https://localhost:8080/",
          "height": 369
        },
        "id": "xFmFmpZRAyBx",
        "outputId": "486f7212-b74d-40ad-b2d6-2a0a1ab1b1e5"
      },
      "execution_count": null,
      "outputs": [
        {
          "output_type": "display_data",
          "data": {
            "text/plain": [
              "<Figure size 1152x360 with 2 Axes>"
            ],
            "image/png": "[encoded data removed]"
          },
          "metadata": {
            "needs_background": "light"
          }
        }
      ]
    },
    {
      "cell_type": "markdown",
      "source": [
        "**Inferences :**\n",
        "- Netflix has a higher number of new movies and TV shows compared to older ones, indicating a continuous effort to provide fresh content to its viewers.\n",
        "- The period between 2015-2020 had the highest number of releases on Netflix, with the highest count in 2018, indicating a focus on providing a diverse range of content to viewers during this time.\n",
        "- These observations indicate that Netflix gives importance to offering new and innovative content to its audience, addressing diverse interests and preferences."
      ],
      "metadata": {
        "id": "dWUBZUwmgkMj"
      }
    },
    {
      "cell_type": "markdown",
      "source": [
        "### **3.7 Geners columns**"
      ],
      "metadata": {
        "id": "fKZLMOj_JPMK"
      }
    },
    {
      "cell_type": "code",
      "source": [
        "# spliiting genre from \"Genres\" column.\n",
        "genres = netflix_df['Genres'].str.split(', ').explode().dropna().value_counts().reset_index().rename({'index':'Genres', 'Genres':'Count'}, axis=1)\n",
        "\n",
        "# top ten genres present in dataset\n",
        "genres[:10]"
      ],
      "metadata": {
        "colab": {
          "base_uri": "https://localhost:8080/",
          "height": 363
        },
        "id": "AveAqRFCBxyR",
        "outputId": "bd49319d-abf4-46c3-d653-285e84d617dc"
      },
      "execution_count": null,
      "outputs": [
        {
          "output_type": "execute_result",
          "data": {
            "text/plain": [
              "                     Genres  Count\n",
              "0      International Movies   2752\n",
              "1                    Dramas   2427\n",
              "2                  Comedies   1674\n",
              "3    International TV Shows   1351\n",
              "4             Documentaries    869\n",
              "5        Action & Adventure    859\n",
              "6                 TV Dramas    763\n",
              "7        Independent Movies    756\n",
              "8  Children & Family Movies    641\n",
              "9           Romantic Movies    616"
            ],
            "text/html": [
              "\n",
              "  <div id=\"df-f5b07ace-3111-41b1-b748-5e209abdc53f\">\n",
              "    <div class=\"colab-df-container\">\n",
              "      <div>\n",
              "<style scoped>\n",
              "    .dataframe tbody tr th:only-of-type {\n",
              "        vertical-align: middle;\n",
              "    }\n",
              "\n",
              "    .dataframe tbody tr th {\n",
              "        vertical-align: top;\n",
              "    }\n",
              "\n",
              "    .dataframe thead th {\n",
              "        text-align: right;\n",
              "    }\n",
              "</style>\n",
              "<table border=\"1\" class=\"dataframe\">\n",
              "  <thead>\n",
              "    <tr style=\"text-align: right;\">\n",
              "      <th></th>\n",
              "      <th>Genres</th>\n",
              "      <th>Count</th>\n",
              "    </tr>\n",
              "  </thead>\n",
              "  <tbody>\n",
              "    <tr>\n",
              "      <th>0</th>\n",
              "      <td>International Movies</td>\n",
              "      <td>2752</td>\n",
              "    </tr>\n",
              "    <tr>\n",
              "      <th>1</th>\n",
              "      <td>Dramas</td>\n",
              "      <td>2427</td>\n",
              "    </tr>\n",
              "    <tr>\n",
              "      <th>2</th>\n",
              "      <td>Comedies</td>\n",
              "      <td>1674</td>\n",
              "    </tr>\n",
              "    <tr>\n",
              "      <th>3</th>\n",
              "      <td>International TV Shows</td>\n",
              "      <td>1351</td>\n",
              "    </tr>\n",
              "    <tr>\n",
              "      <th>4</th>\n",
              "      <td>Documentaries</td>\n",
              "      <td>869</td>\n",
              "    </tr>\n",
              "    <tr>\n",
              "      <th>5</th>\n",
              "      <td>Action &amp; Adventure</td>\n",
              "      <td>859</td>\n",
              "    </tr>\n",
              "    <tr>\n",
              "      <th>6</th>\n",
              "      <td>TV Dramas</td>\n",
              "      <td>763</td>\n",
              "    </tr>\n",
              "    <tr>\n",
              "      <th>7</th>\n",
              "      <td>Independent Movies</td>\n",
              "      <td>756</td>\n",
              "    </tr>\n",
              "    <tr>\n",
              "      <th>8</th>\n",
              "      <td>Children &amp; Family Movies</td>\n",
              "      <td>641</td>\n",
              "    </tr>\n",
              "    <tr>\n",
              "      <th>9</th>\n",
              "      <td>Romantic Movies</td>\n",
              "      <td>616</td>\n",
              "    </tr>\n",
              "  </tbody>\n",
              "</table>\n",
              "</div>\n",
              "      <button class=\"colab-df-convert\" onclick=\"convertToInteractive('df-f5b07ace-3111-41b1-b748-5e209abdc53f')\"\n",
              "              title=\"Convert this dataframe to an interactive table.\"\n",
              "              style=\"display:none;\">\n",
              "        \n",
              "  <svg xmlns=\"http://www.w3.org/2000/svg\" height=\"24px\"viewBox=\"0 0 24 24\"\n",
              "       width=\"24px\">\n",
              "    <path d=\"M0 0h24v24H0V0z\" fill=\"none\"/>\n",
              "    <path d=\"M18.56 5.44l.94 2.06.94-2.06 2.06-.94-2.06-.94-.94-2.06-.94 2.06-2.06.94zm-11 1L8.5 8.5l.94-2.06 2.06-.94-2.06-.94L8.5 2.5l-.94 2.06-2.06.94zm10 10l.94 2.06.94-2.06 2.06-.94-2.06-.94-.94-2.06-.94 2.06-2.06.94z\"/><path d=\"M17.41 7.96l-1.37-1.37c-.4-.4-.92-.59-1.43-.59-.52 0-1.04.2-1.43.59L10.3 9.45l-7.72 7.72c-.78.78-.78 2.05 0 2.83L4 21.41c.39.39.9.59 1.41.59.51 0 1.02-.2 1.41-.59l7.78-7.78 2.81-2.81c.8-.78.8-2.07 0-2.86zM5.41 20L4 18.59l7.72-7.72 1.47 1.35L5.41 20z\"/>\n",
              "  </svg>\n",
              "      </button>\n",
              "      \n",
              "  <style>\n",
              "    .colab-df-container {\n",
              "      display:flex;\n",
              "      flex-wrap:wrap;\n",
              "      gap: 12px;\n",
              "    }\n",
              "\n",
              "    .colab-df-convert {\n",
              "      background-color: #E8F0FE;\n",
              "      border: none;\n",
              "      border-radius: 50%;\n",
              "      cursor: pointer;\n",
              "      display: none;\n",
              "      fill: #1967D2;\n",
              "      height: 32px;\n",
              "      padding: 0 0 0 0;\n",
              "      width: 32px;\n",
              "    }\n",
              "\n",
              "    .colab-df-convert:hover {\n",
              "      background-color: #E2EBFA;\n",
              "      box-shadow: 0px 1px 2px rgba(60, 64, 67, 0.3), 0px 1px 3px 1px rgba(60, 64, 67, 0.15);\n",
              "      fill: #174EA6;\n",
              "    }\n",
              "\n",
              "    [theme=dark] .colab-df-convert {\n",
              "      background-color: #3B4455;\n",
              "      fill: #D2E3FC;\n",
              "    }\n",
              "\n",
              "    [theme=dark] .colab-df-convert:hover {\n",
              "      background-color: #434B5C;\n",
              "      box-shadow: 0px 1px 3px 1px rgba(0, 0, 0, 0.15);\n",
              "      filter: drop-shadow(0px 1px 2px rgba(0, 0, 0, 0.3));\n",
              "      fill: #FFFFFF;\n",
              "    }\n",
              "  </style>\n",
              "\n",
              "      <script>\n",
              "        const buttonEl =\n",
              "          document.querySelector('#df-f5b07ace-3111-41b1-b748-5e209abdc53f button.colab-df-convert');\n",
              "        buttonEl.style.display =\n",
              "          google.colab.kernel.accessAllowed ? 'block' : 'none';\n",
              "\n",
              "        async function convertToInteractive(key) {\n",
              "          const element = document.querySelector('#df-f5b07ace-3111-41b1-b748-5e209abdc53f');\n",
              "          const dataTable =\n",
              "            await google.colab.kernel.invokeFunction('convertToInteractive',\n",
              "                                                     [key], {});\n",
              "          if (!dataTable) return;\n",
              "\n",
              "          const docLinkHtml = 'Like what you see? Visit the ' +\n",
              "            '<a target=\"_blank\" href=https://colab.research.google.com/notebooks/data_table.ipynb>data table notebook</a>'\n",
              "            + ' to learn more about interactive tables.';\n",
              "          element.innerHTML = '';\n",
              "          dataTable['output_type'] = 'display_data';\n",
              "          await google.colab.output.renderOutput(dataTable, element);\n",
              "          const docLink = document.createElement('div');\n",
              "          docLink.innerHTML = docLinkHtml;\n",
              "          element.appendChild(docLink);\n",
              "        }\n",
              "      </script>\n",
              "    </div>\n",
              "  </div>\n",
              "  "
            ]
          },
          "metadata": {},
          "execution_count": 167
        }
      ]
    },
    {
      "cell_type": "code",
      "source": [
        "# counting number of Genres\n",
        "print(f'number of Genres present in dataset : {len(genres)}')"
      ],
      "metadata": {
        "colab": {
          "base_uri": "https://localhost:8080/"
        },
        "id": "MG1UWmVj2r3Q",
        "outputId": "4ccc8f42-5160-450d-b8b1-76ab6720df2f"
      },
      "execution_count": null,
      "outputs": [
        {
          "output_type": "stream",
          "name": "stdout",
          "text": [
            "number of Genres present in dataset : 42\n"
          ]
        }
      ]
    },
    {
      "cell_type": "code",
      "source": [
        "# plotting graph to display top genres\n",
        "plt.figure(figsize=(16,6))\n",
        "graph = sns.barplot(x='Genres', y='Count', data=genres)\n",
        "graph.set_title('top genres present in netflix', size=20)\n",
        "plt.xticks(rotation=90)\n",
        "\n",
        "#adding value count on the top of bar\n",
        "for p in graph.patches:\n",
        "   graph.annotate(format(p.get_height(), '.0f'), (p.get_x(), p.get_height()))\n",
        "\n",
        "plt.show()"
      ],
      "metadata": {
        "colab": {
          "base_uri": "https://localhost:8080/",
          "height": 558
        },
        "id": "Sf5r8Dt1CPbq",
        "outputId": "8e0c3b32-28e9-4bd4-aa4f-1ed2ad9640c9"
      },
      "execution_count": null,
      "outputs": [
        {
          "output_type": "display_data",
          "data": {
            "text/plain": [
              "<Figure size 1152x432 with 1 Axes>"
            ],
            "image/png": "[encoded data removed]"
          },
          "metadata": {
            "needs_background": "light"
          }
        }
      ]
    },
    {
      "cell_type": "markdown",
      "source": [
        "**Inferences :**\n",
        "- International movies, dramas, and comedies have the highest number of genres, Netflix should consider investing more in this categro to meet their audience viewing preferences.\n",
        "- Providing a diverse range of content will help Netflix attract and retain viewers from different cultural backgrounds and interests.\n",
        "- On the other hand, because classic and cult TV, TV thriller, stand-up comedy, and talk shows have the fewest number of genres present in dataset, Netflix may reconsider their strategy for these genres."
      ],
      "metadata": {
        "id": "BeT85hDAgYIi"
      }
    },
    {
      "cell_type": "markdown",
      "source": [
        "### **CLoser Analysis**"
      ],
      "metadata": {
        "id": "EJMIfwBR4E9A"
      }
    },
    {
      "cell_type": "markdown",
      "source": [
        "#####**increment of TV show year on year**"
      ],
      "metadata": {
        "id": "rd34H0nh904m"
      }
    },
    {
      "cell_type": "code",
      "source": [
        "# number of TV show released on Netflix each year\n",
        "shows_added_year_wise = netflix_df[netflix_df['Type']==\"TV Show\"].groupby(['Release_year']).agg({'Title':'count'})\n",
        "shows_added_year_wise.reset_index(inplace=True)\n",
        "shows_added_year_wise"
      ],
      "metadata": {
        "colab": {
          "base_uri": "https://localhost:8080/",
          "height": 1000
        },
        "id": "mKZShxkR5GkJ",
        "outputId": "0b0531a3-a9ff-49a3-828b-11b1d6d4afe1"
      },
      "execution_count": null,
      "outputs": [
        {
          "output_type": "execute_result",
          "data": {
            "text/plain": [
              "    Release_year  Title\n",
              "0           1925      1\n",
              "1           1945      1\n",
              "2           1946      1\n",
              "3           1963      1\n",
              "4           1967      1\n",
              "5           1972      1\n",
              "6           1974      1\n",
              "7           1977      1\n",
              "8           1979      1\n",
              "9           1981      1\n",
              "10          1985      1\n",
              "11          1986      2\n",
              "12          1988      2\n",
              "13          1989      1\n",
              "14          1990      3\n",
              "15          1991      1\n",
              "16          1992      3\n",
              "17          1993      4\n",
              "18          1994      2\n",
              "19          1995      2\n",
              "20          1996      3\n",
              "21          1997      4\n",
              "22          1998      4\n",
              "23          1999      7\n",
              "24          2000      4\n",
              "25          2001      5\n",
              "26          2002      7\n",
              "27          2003     10\n",
              "28          2004      9\n",
              "29          2005     13\n",
              "30          2006     14\n",
              "31          2007     14\n",
              "32          2008     23\n",
              "33          2009     34\n",
              "34          2010     40\n",
              "35          2011     40\n",
              "36          2012     64\n",
              "37          2013     63\n",
              "38          2014     88\n",
              "39          2015    162\n",
              "40          2016    244\n",
              "41          2017    265\n",
              "42          2018    380\n",
              "43          2019    397\n",
              "44          2020    436\n",
              "45          2021    315"
            ],
            "text/html": [
              "\n",
              "  <div id=\"df-3dd227cb-009e-4dc7-9fc1-10de3f24a4d8\">\n",
              "    <div class=\"colab-df-container\">\n",
              "      <div>\n",
              "<style scoped>\n",
              "    .dataframe tbody tr th:only-of-type {\n",
              "        vertical-align: middle;\n",
              "    }\n",
              "\n",
              "    .dataframe tbody tr th {\n",
              "        vertical-align: top;\n",
              "    }\n",
              "\n",
              "    .dataframe thead th {\n",
              "        text-align: right;\n",
              "    }\n",
              "</style>\n",
              "<table border=\"1\" class=\"dataframe\">\n",
              "  <thead>\n",
              "    <tr style=\"text-align: right;\">\n",
              "      <th></th>\n",
              "      <th>Release_year</th>\n",
              "      <th>Title</th>\n",
              "    </tr>\n",
              "  </thead>\n",
              "  <tbody>\n",
              "    <tr>\n",
              "      <th>0</th>\n",
              "      <td>1925</td>\n",
              "      <td>1</td>\n",
              "    </tr>\n",
              "    <tr>\n",
              "      <th>1</th>\n",
              "      <td>1945</td>\n",
              "      <td>1</td>\n",
              "    </tr>\n",
              "    <tr>\n",
              "      <th>2</th>\n",
              "      <td>1946</td>\n",
              "      <td>1</td>\n",
              "    </tr>\n",
              "    <tr>\n",
              "      <th>3</th>\n",
              "      <td>1963</td>\n",
              "      <td>1</td>\n",
              "    </tr>\n",
              "    <tr>\n",
              "      <th>4</th>\n",
              "      <td>1967</td>\n",
              "      <td>1</td>\n",
              "    </tr>\n",
              "    <tr>\n",
              "      <th>5</th>\n",
              "      <td>1972</td>\n",
              "      <td>1</td>\n",
              "    </tr>\n",
              "    <tr>\n",
              "      <th>6</th>\n",
              "      <td>1974</td>\n",
              "      <td>1</td>\n",
              "    </tr>\n",
              "    <tr>\n",
              "      <th>7</th>\n",
              "      <td>1977</td>\n",
              "      <td>1</td>\n",
              "    </tr>\n",
              "    <tr>\n",
              "      <th>8</th>\n",
              "      <td>1979</td>\n",
              "      <td>1</td>\n",
              "    </tr>\n",
              "    <tr>\n",
              "      <th>9</th>\n",
              "      <td>1981</td>\n",
              "      <td>1</td>\n",
              "    </tr>\n",
              "    <tr>\n",
              "      <th>10</th>\n",
              "      <td>1985</td>\n",
              "      <td>1</td>\n",
              "    </tr>\n",
              "    <tr>\n",
              "      <th>11</th>\n",
              "      <td>1986</td>\n",
              "      <td>2</td>\n",
              "    </tr>\n",
              "    <tr>\n",
              "      <th>12</th>\n",
              "      <td>1988</td>\n",
              "      <td>2</td>\n",
              "    </tr>\n",
              "    <tr>\n",
              "      <th>13</th>\n",
              "      <td>1989</td>\n",
              "      <td>1</td>\n",
              "    </tr>\n",
              "    <tr>\n",
              "      <th>14</th>\n",
              "      <td>1990</td>\n",
              "      <td>3</td>\n",
              "    </tr>\n",
              "    <tr>\n",
              "      <th>15</th>\n",
              "      <td>1991</td>\n",
              "      <td>1</td>\n",
              "    </tr>\n",
              "    <tr>\n",
              "      <th>16</th>\n",
              "      <td>1992</td>\n",
              "      <td>3</td>\n",
              "    </tr>\n",
              "    <tr>\n",
              "      <th>17</th>\n",
              "      <td>1993</td>\n",
              "      <td>4</td>\n",
              "    </tr>\n",
              "    <tr>\n",
              "      <th>18</th>\n",
              "      <td>1994</td>\n",
              "      <td>2</td>\n",
              "    </tr>\n",
              "    <tr>\n",
              "      <th>19</th>\n",
              "      <td>1995</td>\n",
              "      <td>2</td>\n",
              "    </tr>\n",
              "    <tr>\n",
              "      <th>20</th>\n",
              "      <td>1996</td>\n",
              "      <td>3</td>\n",
              "    </tr>\n",
              "    <tr>\n",
              "      <th>21</th>\n",
              "      <td>1997</td>\n",
              "      <td>4</td>\n",
              "    </tr>\n",
              "    <tr>\n",
              "      <th>22</th>\n",
              "      <td>1998</td>\n",
              "      <td>4</td>\n",
              "    </tr>\n",
              "    <tr>\n",
              "      <th>23</th>\n",
              "      <td>1999</td>\n",
              "      <td>7</td>\n",
              "    </tr>\n",
              "    <tr>\n",
              "      <th>24</th>\n",
              "      <td>2000</td>\n",
              "      <td>4</td>\n",
              "    </tr>\n",
              "    <tr>\n",
              "      <th>25</th>\n",
              "      <td>2001</td>\n",
              "      <td>5</td>\n",
              "    </tr>\n",
              "    <tr>\n",
              "      <th>26</th>\n",
              "      <td>2002</td>\n",
              "      <td>7</td>\n",
              "    </tr>\n",
              "    <tr>\n",
              "      <th>27</th>\n",
              "      <td>2003</td>\n",
              "      <td>10</td>\n",
              "    </tr>\n",
              "    <tr>\n",
              "      <th>28</th>\n",
              "      <td>2004</td>\n",
              "      <td>9</td>\n",
              "    </tr>\n",
              "    <tr>\n",
              "      <th>29</th>\n",
              "      <td>2005</td>\n",
              "      <td>13</td>\n",
              "    </tr>\n",
              "    <tr>\n",
              "      <th>30</th>\n",
              "      <td>2006</td>\n",
              "      <td>14</td>\n",
              "    </tr>\n",
              "    <tr>\n",
              "      <th>31</th>\n",
              "      <td>2007</td>\n",
              "      <td>14</td>\n",
              "    </tr>\n",
              "    <tr>\n",
              "      <th>32</th>\n",
              "      <td>2008</td>\n",
              "      <td>23</td>\n",
              "    </tr>\n",
              "    <tr>\n",
              "      <th>33</th>\n",
              "      <td>2009</td>\n",
              "      <td>34</td>\n",
              "    </tr>\n",
              "    <tr>\n",
              "      <th>34</th>\n",
              "      <td>2010</td>\n",
              "      <td>40</td>\n",
              "    </tr>\n",
              "    <tr>\n",
              "      <th>35</th>\n",
              "      <td>2011</td>\n",
              "      <td>40</td>\n",
              "    </tr>\n",
              "    <tr>\n",
              "      <th>36</th>\n",
              "      <td>2012</td>\n",
              "      <td>64</td>\n",
              "    </tr>\n",
              "    <tr>\n",
              "      <th>37</th>\n",
              "      <td>2013</td>\n",
              "      <td>63</td>\n",
              "    </tr>\n",
              "    <tr>\n",
              "      <th>38</th>\n",
              "      <td>2014</td>\n",
              "      <td>88</td>\n",
              "    </tr>\n",
              "    <tr>\n",
              "      <th>39</th>\n",
              "      <td>2015</td>\n",
              "      <td>162</td>\n",
              "    </tr>\n",
              "    <tr>\n",
              "      <th>40</th>\n",
              "      <td>2016</td>\n",
              "      <td>244</td>\n",
              "    </tr>\n",
              "    <tr>\n",
              "      <th>41</th>\n",
              "      <td>2017</td>\n",
              "      <td>265</td>\n",
              "    </tr>\n",
              "    <tr>\n",
              "      <th>42</th>\n",
              "      <td>2018</td>\n",
              "      <td>380</td>\n",
              "    </tr>\n",
              "    <tr>\n",
              "      <th>43</th>\n",
              "      <td>2019</td>\n",
              "      <td>397</td>\n",
              "    </tr>\n",
              "    <tr>\n",
              "      <th>44</th>\n",
              "      <td>2020</td>\n",
              "      <td>436</td>\n",
              "    </tr>\n",
              "    <tr>\n",
              "      <th>45</th>\n",
              "      <td>2021</td>\n",
              "      <td>315</td>\n",
              "    </tr>\n",
              "  </tbody>\n",
              "</table>\n",
              "</div>\n",
              "      <button class=\"colab-df-convert\" onclick=\"convertToInteractive('df-3dd227cb-009e-4dc7-9fc1-10de3f24a4d8')\"\n",
              "              title=\"Convert this dataframe to an interactive table.\"\n",
              "              style=\"display:none;\">\n",
              "        \n",
              "  <svg xmlns=\"http://www.w3.org/2000/svg\" height=\"24px\"viewBox=\"0 0 24 24\"\n",
              "       width=\"24px\">\n",
              "    <path d=\"M0 0h24v24H0V0z\" fill=\"none\"/>\n",
              "    <path d=\"M18.56 5.44l.94 2.06.94-2.06 2.06-.94-2.06-.94-.94-2.06-.94 2.06-2.06.94zm-11 1L8.5 8.5l.94-2.06 2.06-.94-2.06-.94L8.5 2.5l-.94 2.06-2.06.94zm10 10l.94 2.06.94-2.06 2.06-.94-2.06-.94-.94-2.06-.94 2.06-2.06.94z\"/><path d=\"M17.41 7.96l-1.37-1.37c-.4-.4-.92-.59-1.43-.59-.52 0-1.04.2-1.43.59L10.3 9.45l-7.72 7.72c-.78.78-.78 2.05 0 2.83L4 21.41c.39.39.9.59 1.41.59.51 0 1.02-.2 1.41-.59l7.78-7.78 2.81-2.81c.8-.78.8-2.07 0-2.86zM5.41 20L4 18.59l7.72-7.72 1.47 1.35L5.41 20z\"/>\n",
              "  </svg>\n",
              "      </button>\n",
              "      \n",
              "  <style>\n",
              "    .colab-df-container {\n",
              "      display:flex;\n",
              "      flex-wrap:wrap;\n",
              "      gap: 12px;\n",
              "    }\n",
              "\n",
              "    .colab-df-convert {\n",
              "      background-color: #E8F0FE;\n",
              "      border: none;\n",
              "      border-radius: 50%;\n",
              "      cursor: pointer;\n",
              "      display: none;\n",
              "      fill: #1967D2;\n",
              "      height: 32px;\n",
              "      padding: 0 0 0 0;\n",
              "      width: 32px;\n",
              "    }\n",
              "\n",
              "    .colab-df-convert:hover {\n",
              "      background-color: #E2EBFA;\n",
              "      box-shadow: 0px 1px 2px rgba(60, 64, 67, 0.3), 0px 1px 3px 1px rgba(60, 64, 67, 0.15);\n",
              "      fill: #174EA6;\n",
              "    }\n",
              "\n",
              "    [theme=dark] .colab-df-convert {\n",
              "      background-color: #3B4455;\n",
              "      fill: #D2E3FC;\n",
              "    }\n",
              "\n",
              "    [theme=dark] .colab-df-convert:hover {\n",
              "      background-color: #434B5C;\n",
              "      box-shadow: 0px 1px 3px 1px rgba(0, 0, 0, 0.15);\n",
              "      filter: drop-shadow(0px 1px 2px rgba(0, 0, 0, 0.3));\n",
              "      fill: #FFFFFF;\n",
              "    }\n",
              "  </style>\n",
              "\n",
              "      <script>\n",
              "        const buttonEl =\n",
              "          document.querySelector('#df-3dd227cb-009e-4dc7-9fc1-10de3f24a4d8 button.colab-df-convert');\n",
              "        buttonEl.style.display =\n",
              "          google.colab.kernel.accessAllowed ? 'block' : 'none';\n",
              "\n",
              "        async function convertToInteractive(key) {\n",
              "          const element = document.querySelector('#df-3dd227cb-009e-4dc7-9fc1-10de3f24a4d8');\n",
              "          const dataTable =\n",
              "            await google.colab.kernel.invokeFunction('convertToInteractive',\n",
              "                                                     [key], {});\n",
              "          if (!dataTable) return;\n",
              "\n",
              "          const docLinkHtml = 'Like what you see? Visit the ' +\n",
              "            '<a target=\"_blank\" href=https://colab.research.google.com/notebooks/data_table.ipynb>data table notebook</a>'\n",
              "            + ' to learn more about interactive tables.';\n",
              "          element.innerHTML = '';\n",
              "          dataTable['output_type'] = 'display_data';\n",
              "          await google.colab.output.renderOutput(dataTable, element);\n",
              "          const docLink = document.createElement('div');\n",
              "          docLink.innerHTML = docLinkHtml;\n",
              "          element.appendChild(docLink);\n",
              "        }\n",
              "      </script>\n",
              "    </div>\n",
              "  </div>\n",
              "  "
            ]
          },
          "metadata": {},
          "execution_count": 43
        }
      ]
    },
    {
      "cell_type": "markdown",
      "source": [
        "##### **plot for TV show added over years**"
      ],
      "metadata": {
        "id": "bwr38pj1A-R3"
      }
    },
    {
      "cell_type": "code",
      "source": [
        "# plot graph\n",
        "shows_added_year_wise.plot.line(x=\"Release_year\", y=\"Title\", figsize=(10,5))\n",
        "plt.title('trends in the TV show over year', size=15)\n",
        "plt.show()"
      ],
      "metadata": {
        "colab": {
          "base_uri": "https://localhost:8080/",
          "height": 353
        },
        "id": "xuwNWyoj74d3",
        "outputId": "f5a05609-ae6c-4a98-c4ea-8b4be186d73a"
      },
      "execution_count": null,
      "outputs": [
        {
          "output_type": "display_data",
          "data": {
            "text/plain": [
              "<Figure size 720x360 with 1 Axes>"
            ],
            "image/png": "[encoded data removed]"
          },
          "metadata": {
            "needs_background": "light"
          }
        }
      ]
    },
    {
      "cell_type": "markdown",
      "source": [
        "**Inferences :**\n",
        "- Considering the trend of increasing numbers of TV shows on Netflix since 2000, it would be advantageous for the company to continue prioritizing the production of high-quality TV content to increase their revenue."
      ],
      "metadata": {
        "id": "6hzMxZYowW-Z"
      }
    },
    {
      "cell_type": "markdown",
      "source": [
        "#### **increment of Movie year on year**"
      ],
      "metadata": {
        "id": "_CF1XU1w-JNn"
      }
    },
    {
      "cell_type": "code",
      "source": [
        "# number of movies released on Netflix each year\n",
        "movies_added_year_wise = netflix_df[netflix_df['Type']==\"Movie\"].groupby(['Release_year']).agg({'Title':'count'})\n",
        "movies_added_year_wise.reset_index(inplace=True)\n",
        "movies_added_year_wise"
      ],
      "metadata": {
        "colab": {
          "base_uri": "https://localhost:8080/",
          "height": 423
        },
        "id": "ik02CQhrACJO",
        "outputId": "373aafd3-51f5-41e8-ff83-0fe16d40c890"
      },
      "execution_count": null,
      "outputs": [
        {
          "output_type": "execute_result",
          "data": {
            "text/plain": [
              "    Release_year  Title\n",
              "0           1942      2\n",
              "1           1943      3\n",
              "2           1944      3\n",
              "3           1945      3\n",
              "4           1946      1\n",
              "..           ...    ...\n",
              "68          2017    767\n",
              "69          2018    767\n",
              "70          2019    633\n",
              "71          2020    517\n",
              "72          2021    277\n",
              "\n",
              "[73 rows x 2 columns]"
            ],
            "text/html": [
              "\n",
              "  <div id=\"df-2408561e-13a4-4fce-9c87-95510a942b2b\">\n",
              "    <div class=\"colab-df-container\">\n",
              "      <div>\n",
              "<style scoped>\n",
              "    .dataframe tbody tr th:only-of-type {\n",
              "        vertical-align: middle;\n",
              "    }\n",
              "\n",
              "    .dataframe tbody tr th {\n",
              "        vertical-align: top;\n",
              "    }\n",
              "\n",
              "    .dataframe thead th {\n",
              "        text-align: right;\n",
              "    }\n",
              "</style>\n",
              "<table border=\"1\" class=\"dataframe\">\n",
              "  <thead>\n",
              "    <tr style=\"text-align: right;\">\n",
              "      <th></th>\n",
              "      <th>Release_year</th>\n",
              "      <th>Title</th>\n",
              "    </tr>\n",
              "  </thead>\n",
              "  <tbody>\n",
              "    <tr>\n",
              "      <th>0</th>\n",
              "      <td>1942</td>\n",
              "      <td>2</td>\n",
              "    </tr>\n",
              "    <tr>\n",
              "      <th>1</th>\n",
              "      <td>1943</td>\n",
              "      <td>3</td>\n",
              "    </tr>\n",
              "    <tr>\n",
              "      <th>2</th>\n",
              "      <td>1944</td>\n",
              "      <td>3</td>\n",
              "    </tr>\n",
              "    <tr>\n",
              "      <th>3</th>\n",
              "      <td>1945</td>\n",
              "      <td>3</td>\n",
              "    </tr>\n",
              "    <tr>\n",
              "      <th>4</th>\n",
              "      <td>1946</td>\n",
              "      <td>1</td>\n",
              "    </tr>\n",
              "    <tr>\n",
              "      <th>...</th>\n",
              "      <td>...</td>\n",
              "      <td>...</td>\n",
              "    </tr>\n",
              "    <tr>\n",
              "      <th>68</th>\n",
              "      <td>2017</td>\n",
              "      <td>767</td>\n",
              "    </tr>\n",
              "    <tr>\n",
              "      <th>69</th>\n",
              "      <td>2018</td>\n",
              "      <td>767</td>\n",
              "    </tr>\n",
              "    <tr>\n",
              "      <th>70</th>\n",
              "      <td>2019</td>\n",
              "      <td>633</td>\n",
              "    </tr>\n",
              "    <tr>\n",
              "      <th>71</th>\n",
              "      <td>2020</td>\n",
              "      <td>517</td>\n",
              "    </tr>\n",
              "    <tr>\n",
              "      <th>72</th>\n",
              "      <td>2021</td>\n",
              "      <td>277</td>\n",
              "    </tr>\n",
              "  </tbody>\n",
              "</table>\n",
              "<p>73 rows × 2 columns</p>\n",
              "</div>\n",
              "      <button class=\"colab-df-convert\" onclick=\"convertToInteractive('df-2408561e-13a4-4fce-9c87-95510a942b2b')\"\n",
              "              title=\"Convert this dataframe to an interactive table.\"\n",
              "              style=\"display:none;\">\n",
              "        \n",
              "  <svg xmlns=\"http://www.w3.org/2000/svg\" height=\"24px\"viewBox=\"0 0 24 24\"\n",
              "       width=\"24px\">\n",
              "    <path d=\"M0 0h24v24H0V0z\" fill=\"none\"/>\n",
              "    <path d=\"M18.56 5.44l.94 2.06.94-2.06 2.06-.94-2.06-.94-.94-2.06-.94 2.06-2.06.94zm-11 1L8.5 8.5l.94-2.06 2.06-.94-2.06-.94L8.5 2.5l-.94 2.06-2.06.94zm10 10l.94 2.06.94-2.06 2.06-.94-2.06-.94-.94-2.06-.94 2.06-2.06.94z\"/><path d=\"M17.41 7.96l-1.37-1.37c-.4-.4-.92-.59-1.43-.59-.52 0-1.04.2-1.43.59L10.3 9.45l-7.72 7.72c-.78.78-.78 2.05 0 2.83L4 21.41c.39.39.9.59 1.41.59.51 0 1.02-.2 1.41-.59l7.78-7.78 2.81-2.81c.8-.78.8-2.07 0-2.86zM5.41 20L4 18.59l7.72-7.72 1.47 1.35L5.41 20z\"/>\n",
              "  </svg>\n",
              "      </button>\n",
              "      \n",
              "  <style>\n",
              "    .colab-df-container {\n",
              "      display:flex;\n",
              "      flex-wrap:wrap;\n",
              "      gap: 12px;\n",
              "    }\n",
              "\n",
              "    .colab-df-convert {\n",
              "      background-color: #E8F0FE;\n",
              "      border: none;\n",
              "      border-radius: 50%;\n",
              "      cursor: pointer;\n",
              "      display: none;\n",
              "      fill: #1967D2;\n",
              "      height: 32px;\n",
              "      padding: 0 0 0 0;\n",
              "      width: 32px;\n",
              "    }\n",
              "\n",
              "    .colab-df-convert:hover {\n",
              "      background-color: #E2EBFA;\n",
              "      box-shadow: 0px 1px 2px rgba(60, 64, 67, 0.3), 0px 1px 3px 1px rgba(60, 64, 67, 0.15);\n",
              "      fill: #174EA6;\n",
              "    }\n",
              "\n",
              "    [theme=dark] .colab-df-convert {\n",
              "      background-color: #3B4455;\n",
              "      fill: #D2E3FC;\n",
              "    }\n",
              "\n",
              "    [theme=dark] .colab-df-convert:hover {\n",
              "      background-color: #434B5C;\n",
              "      box-shadow: 0px 1px 3px 1px rgba(0, 0, 0, 0.15);\n",
              "      filter: drop-shadow(0px 1px 2px rgba(0, 0, 0, 0.3));\n",
              "      fill: #FFFFFF;\n",
              "    }\n",
              "  </style>\n",
              "\n",
              "      <script>\n",
              "        const buttonEl =\n",
              "          document.querySelector('#df-2408561e-13a4-4fce-9c87-95510a942b2b button.colab-df-convert');\n",
              "        buttonEl.style.display =\n",
              "          google.colab.kernel.accessAllowed ? 'block' : 'none';\n",
              "\n",
              "        async function convertToInteractive(key) {\n",
              "          const element = document.querySelector('#df-2408561e-13a4-4fce-9c87-95510a942b2b');\n",
              "          const dataTable =\n",
              "            await google.colab.kernel.invokeFunction('convertToInteractive',\n",
              "                                                     [key], {});\n",
              "          if (!dataTable) return;\n",
              "\n",
              "          const docLinkHtml = 'Like what you see? Visit the ' +\n",
              "            '<a target=\"_blank\" href=https://colab.research.google.com/notebooks/data_table.ipynb>data table notebook</a>'\n",
              "            + ' to learn more about interactive tables.';\n",
              "          element.innerHTML = '';\n",
              "          dataTable['output_type'] = 'display_data';\n",
              "          await google.colab.output.renderOutput(dataTable, element);\n",
              "          const docLink = document.createElement('div');\n",
              "          docLink.innerHTML = docLinkHtml;\n",
              "          element.appendChild(docLink);\n",
              "        }\n",
              "      </script>\n",
              "    </div>\n",
              "  </div>\n",
              "  "
            ]
          },
          "metadata": {},
          "execution_count": 65
        }
      ]
    },
    {
      "cell_type": "markdown",
      "source": [
        "#### **plot for movies added over years**"
      ],
      "metadata": {
        "id": "YWQAAGVVAtQ8"
      }
    },
    {
      "cell_type": "code",
      "source": [
        "movies_added_year_wise.plot.line(x=\"Release_year\", y=\"Title\", figsize=(10,5))\n",
        "plt.title('trends in the Movie over year', size=15)\n",
        "plt.show()"
      ],
      "metadata": {
        "colab": {
          "base_uri": "https://localhost:8080/",
          "height": 353
        },
        "id": "I32H4-8xAS4O",
        "outputId": "c6400676-9925-4c0d-e830-41d94422bbc3"
      },
      "execution_count": null,
      "outputs": [
        {
          "output_type": "display_data",
          "data": {
            "text/plain": [
              "<Figure size 720x360 with 1 Axes>"
            ],
            "image/png": "[encoded data removed]"
          },
          "metadata": {
            "needs_background": "light"
          }
        }
      ]
    },
    {
      "cell_type": "markdown",
      "source": [
        "**Inferences:**\n",
        "- Based on insight, Although the number of movies on Netflix has increased year over year since 2000, the rate of growth has slowed in recent years. The increase in the number of movies available on the platform between 2015 and 2021 has not been as significant as in previous years."
      ],
      "metadata": {
        "id": "RQ-VZaAx0mMr"
      }
    },
    {
      "cell_type": "markdown",
      "source": [
        "###**Hypothesis: In 2018, they released an interesting report which shows that the number of TV shows on Netflix has nearly tripled since 2010. The streaming service’s number of movies has decreased by more than 2,000 titles since 2010, while its number of TV shows has nearly tripled. It will be interesting to explore what all other insights can be obtained from the same dataset.**"
      ],
      "metadata": {
        "id": "zGG7NNZf4NqA"
      }
    },
    {
      "cell_type": "markdown",
      "source": [
        "### **TV SHOWS**"
      ],
      "metadata": {
        "id": "n4_IcTA_QMa7"
      }
    },
    {
      "cell_type": "markdown",
      "source": [
        "***TV Shows added till 2010***\n"
      ],
      "metadata": {
        "id": "iUhEnUnI4sSA"
      }
    },
    {
      "cell_type": "code",
      "source": [
        "TVshows_till_2010 = shows_added_year_wise[(shows_added_year_wise['Release_year'] <= 2010)]['Title'].sum()\n",
        "TVshows_till_2010"
      ],
      "metadata": {
        "colab": {
          "base_uri": "https://localhost:8080/"
        },
        "id": "4aliEl5-4pm4",
        "outputId": "11d7470d-3064-4f16-90d7-bacd961cfaa6"
      },
      "execution_count": null,
      "outputs": [
        {
          "output_type": "execute_result",
          "data": {
            "text/plain": [
              "222"
            ]
          },
          "metadata": {},
          "execution_count": 81
        }
      ]
    },
    {
      "cell_type": "markdown",
      "source": [
        "***TV shows added in between 2011 to 2018***"
      ],
      "metadata": {
        "id": "XZCVGQ2jEBHh"
      }
    },
    {
      "cell_type": "code",
      "source": [
        "TVshows_between_2011to2018 = shows_added_year_wise[(shows_added_year_wise['Release_year'] <= 2018) & (shows_added_year_wise['Release_year'] >= 2011)][\"Title\"].sum()\n",
        "TVshows_between_2011to2018"
      ],
      "metadata": {
        "colab": {
          "base_uri": "https://localhost:8080/"
        },
        "id": "2qsOMLa5D_kH",
        "outputId": "43a0d0e4-35eb-4cdb-e547-10d46abf1dea"
      },
      "execution_count": null,
      "outputs": [
        {
          "output_type": "execute_result",
          "data": {
            "text/plain": [
              "1306"
            ]
          },
          "metadata": {},
          "execution_count": 83
        }
      ]
    },
    {
      "cell_type": "code",
      "source": [
        "print(f'Number of TV shows increased by : {TVshows_between_2011to2018 / TVshows_till_2010} times in between 2011-2018 as compared to up to 2010')"
      ],
      "metadata": {
        "colab": {
          "base_uri": "https://localhost:8080/"
        },
        "id": "77KxLbBaMzw0",
        "outputId": "8cb94ea7-89dc-4c7e-eedf-2f31667e8efb"
      },
      "execution_count": null,
      "outputs": [
        {
          "output_type": "stream",
          "name": "stdout",
          "text": [
            "Number of TV shows increased by : 5.882882882882883 times in between 2011-2018 as compared to up to 2010\n"
          ]
        }
      ]
    },
    {
      "cell_type": "markdown",
      "source": [
        "**Inferences:**\n",
        "\n",
        "*According to the given dataset, the number of TV shows have definitely increased by more than 3 times.*\n",
        "- This suggests that there has been a significant increase in the number of TV shows being released in recent years, which could be due to various factors such as the rise of streaming platforms and the expansion of the global TV market.\n",
        "- Netflix should continue to adapt to changing consumer preferences and behavior, such as the growing trend of binge-watching and the increasing use of mobile devices to watch TV shows.\n"
      ],
      "metadata": {
        "id": "1TPTlr2vNcMa"
      }
    },
    {
      "cell_type": "markdown",
      "source": [
        "### **Movies**"
      ],
      "metadata": {
        "id": "h1CnumyyTaVj"
      }
    },
    {
      "cell_type": "markdown",
      "source": [
        "***Movies added upto 2010***\n"
      ],
      "metadata": {
        "id": "NzSZTyZBTaVk"
      }
    },
    {
      "cell_type": "code",
      "source": [
        "Movies_till_2010 = movies_added_year_wise[(movies_added_year_wise['Release_year'] <= 2010)]['Title'].sum()\n",
        "Movies_till_2010"
      ],
      "metadata": {
        "colab": {
          "base_uri": "https://localhost:8080/"
        },
        "outputId": "40f38fa7-34a4-4c4b-d504-0f6e0db01454",
        "id": "E2n_ew9OTaVk"
      },
      "execution_count": null,
      "outputs": [
        {
          "output_type": "execute_result",
          "data": {
            "text/plain": [
              "1307"
            ]
          },
          "metadata": {},
          "execution_count": 97
        }
      ]
    },
    {
      "cell_type": "markdown",
      "source": [
        "***TV shows added in between 2011 to 2018***"
      ],
      "metadata": {
        "id": "YzZN1QwrTaVl"
      }
    },
    {
      "cell_type": "code",
      "source": [
        "Movies_between_2011to2018 = movies_added_year_wise[(movies_added_year_wise['Release_year'] <= 2018) & (movies_added_year_wise['Release_year'] >= 2011)][\"Title\"].sum()\n",
        "Movies_between_2011to2018"
      ],
      "metadata": {
        "colab": {
          "base_uri": "https://localhost:8080/"
        },
        "outputId": "069393b2-f999-4457-93ed-dc321f43f322",
        "id": "vYcIPgISTaVm"
      },
      "execution_count": null,
      "outputs": [
        {
          "output_type": "execute_result",
          "data": {
            "text/plain": [
              "3397"
            ]
          },
          "metadata": {},
          "execution_count": 98
        }
      ]
    },
    {
      "cell_type": "code",
      "source": [
        "print(f'Number of Movies increased by : {Movies_between_2011to2018 / Movies_between_2011to2018} times in between 2011-2018 as compared to up to 2010')"
      ],
      "metadata": {
        "colab": {
          "base_uri": "https://localhost:8080/"
        },
        "outputId": "5e90c524-a8cb-4389-f810-1bbfb39ae2ec",
        "id": "-eRBKESoTaVm"
      },
      "execution_count": null,
      "outputs": [
        {
          "output_type": "stream",
          "name": "stdout",
          "text": [
            "Number of Movies increased by : 1.0 times in between 2011-2018 as compared to up to 2010\n"
          ]
        }
      ]
    },
    {
      "cell_type": "markdown",
      "source": [
        "**Inferences :**\n",
        "- Based on that the number of movies being added to Netflix has not increased as much as TV shows, Netflix should consider increasing the number of movies in their library to appeal to a wider range of viewers.\n",
        "- Additionally, they could consider releasing more movies on a regular basis to keep viewers engaged and satisfied with the content available on the platform."
      ],
      "metadata": {
        "id": "NnQg5cJuTaVn"
      }
    },
    {
      "cell_type": "markdown",
      "source": [
        "## **4. Data Cleaning**\n",
        "Once the EDA is complete, data cleaning can be performed to modify or transform the data to fit specific requirements for analysis or modeling. The cleaning process may involve handling missing, removing duplicates, transforming data types, and more, depending on the specific needs of the analysis."
      ],
      "metadata": {
        "id": "DLgNtOuiO74_"
      }
    },
    {
      "cell_type": "markdown",
      "source": [
        "#### **Duplicat values**"
      ],
      "metadata": {
        "id": "ZF7E1UCl6iJf"
      }
    },
    {
      "cell_type": "code",
      "source": [
        "# duplicate values\n",
        "netflix_df.duplicated().sum()"
      ],
      "metadata": {
        "colab": {
          "base_uri": "https://localhost:8080/"
        },
        "id": "FORGof3ONGbJ",
        "outputId": "15b137ad-05cd-4622-d3d6-39efa94ff5dc"
      },
      "execution_count": null,
      "outputs": [
        {
          "output_type": "execute_result",
          "data": {
            "text/plain": [
              "0"
            ]
          },
          "metadata": {},
          "execution_count": 15
        }
      ]
    },
    {
      "cell_type": "markdown",
      "source": [
        "- There is no duplicate entries in the dataset."
      ],
      "metadata": {
        "id": "kYar6hK96qvW"
      }
    },
    {
      "cell_type": "markdown",
      "source": [
        "#### **Handling Missing Values**"
      ],
      "metadata": {
        "id": "1fq2iLHG9B-P"
      }
    },
    {
      "cell_type": "code",
      "source": [
        "# Visualizing the missing values\n",
        "import missingno as msno\n",
        "msno.bar(netflix_df, figsize=(10,5), fontsize=12)"
      ],
      "metadata": {
        "colab": {
          "base_uri": "https://localhost:8080/",
          "height": 430
        },
        "id": "DvJNc5dL6y6B",
        "outputId": "7feba9d5-40cb-4efe-fd1c-7813f647dc4d"
      },
      "execution_count": null,
      "outputs": [
        {
          "output_type": "execute_result",
          "data": {
            "text/plain": [
              "<AxesSubplot:>"
            ]
          },
          "metadata": {},
          "execution_count": 133
        },
        {
          "output_type": "display_data",
          "data": {
            "text/plain": [
              "<Figure size 720x360 with 3 Axes>"
            ],
            "image/png": "[encoded data removed]"
          },
          "metadata": {
            "needs_background": "light"
          }
        }
      ]
    },
    {
      "cell_type": "code",
      "source": [
        "# Missing Values Percentage\n",
        "round(netflix_df.isna().sum()/len(netflix_df)*100, 2)"
      ],
      "metadata": {
        "colab": {
          "base_uri": "https://localhost:8080/"
        },
        "id": "svr1zQpYPHBb",
        "outputId": "41aa48fa-2b3d-4e6f-befd-3c23afe5d7b6"
      },
      "execution_count": null,
      "outputs": [
        {
          "output_type": "execute_result",
          "data": {
            "text/plain": [
              "Type             0.00\n",
              "Title            0.00\n",
              "Director        29.91\n",
              "Cast             9.37\n",
              "Country          9.44\n",
              "Release_year     0.00\n",
              "Genres           0.00\n",
              "dtype: float64"
            ]
          },
          "metadata": {},
          "execution_count": 16
        }
      ]
    },
    {
      "cell_type": "markdown",
      "source": [
        "- Replacing missing values with 'empty string' for the director, cast, and country attributes\n",
        "- Percentage of missing values is high. Since, data size is too small and important details are specific to each movie we cant simply drop those rows, this approach ensures that no data is lost while also maintaining the integrity of the data."
      ],
      "metadata": {
        "id": "WBzRY94n7MOX"
      }
    },
    {
      "cell_type": "code",
      "source": [
        "# missing value imputation with \"empty string\"\n",
        "netflix_df[['Director','Cast','Country']] = netflix_df[['Director','Cast','Country']].fillna(' ')"
      ],
      "metadata": {
        "id": "gHScgBWD_PGn"
      },
      "execution_count": null,
      "outputs": []
    },
    {
      "cell_type": "code",
      "source": [
        "# checking for null values after treating them.\n",
        "netflix_df.isna().sum()"
      ],
      "metadata": {
        "colab": {
          "base_uri": "https://localhost:8080/"
        },
        "id": "drgimdr__iMN",
        "outputId": "eddec034-b8a0-49c0-bea9-d8869629572d"
      },
      "execution_count": null,
      "outputs": [
        {
          "output_type": "execute_result",
          "data": {
            "text/plain": [
              "Type            0\n",
              "Title           0\n",
              "Director        0\n",
              "Cast            0\n",
              "Country         0\n",
              "Release_year    0\n",
              "Genres          0\n",
              "dtype: int64"
            ]
          },
          "metadata": {},
          "execution_count": 138
        }
      ]
    },
    {
      "cell_type": "markdown",
      "source": [
        "#### **Handling Outliers**"
      ],
      "metadata": {
        "id": "O_WA9T4S9J99"
      }
    },
    {
      "cell_type": "code",
      "source": [
        "# boxplot for outlier detection\n",
        "sns.boxplot(data=netflix_df)"
      ],
      "metadata": {
        "colab": {
          "base_uri": "https://localhost:8080/",
          "height": 283
        },
        "id": "dw8AtC629WNW",
        "outputId": "cdd74b24-fab8-4582-d533-a2ebbc50959b"
      },
      "execution_count": null,
      "outputs": [
        {
          "output_type": "execute_result",
          "data": {
            "text/plain": [
              "<AxesSubplot:>"
            ]
          },
          "metadata": {},
          "execution_count": 134
        },
        {
          "output_type": "display_data",
          "data": {
            "text/plain": [
              "<Figure size 432x288 with 1 Axes>"
            ],
            "image/png": "[encoded data removed]"
          },
          "metadata": {
            "needs_background": "light"
          }
        }
      ]
    },
    {
      "cell_type": "code",
      "source": [
        "print(f'latest_year present in dataset : {netflix_df.Release_year.max()} \\nOldest year present in dataset : {netflix_df.Release_year.min()}')"
      ],
      "metadata": {
        "colab": {
          "base_uri": "https://localhost:8080/"
        },
        "id": "4qvOui8r-SlG",
        "outputId": "8fbce985-48e8-480a-ba82-73bbcdb49432"
      },
      "execution_count": null,
      "outputs": [
        {
          "output_type": "stream",
          "name": "stdout",
          "text": [
            "latest_year present in dataset : 2021 \n",
            "Oldest year present in dataset : 1925\n"
          ]
        }
      ]
    },
    {
      "cell_type": "markdown",
      "source": [
        "- Since, the almost all of the data present in textual format except release year.\n",
        "- The data that we need to create cluster or building model are present in textual foramat. So, there is no need to perform handling outlier.\n",
        "-If the project requirement need to use \"Release_year\" column in that case we simply use Capping method to hadling outlier."
      ],
      "metadata": {
        "id": "7eHSIrPq-5fX"
      }
    },
    {
      "cell_type": "code",
      "source": [
        "netflix_df.sample(10)"
      ],
      "metadata": {
        "colab": {
          "base_uri": "https://localhost:8080/",
          "height": 580
        },
        "id": "eusLj3gNAT7w",
        "outputId": "0f7e1928-d74d-43f4-893a-d312fb62e2a7"
      },
      "execution_count": null,
      "outputs": [
        {
          "output_type": "execute_result",
          "data": {
            "text/plain": [
              "         Type                                              Title  \\\n",
              "5002    Movie                   Natalia Valdebenito: El especial   \n",
              "7021    Movie                                           Hulk Vs.   \n",
              "3012  TV Show                                 Nailed It! Germany   \n",
              "1479  TV Show                          SanPa: Sins of the Savior   \n",
              "5056    Movie  Jerry Seinfeld: I'm Telling You for the Last Time   \n",
              "3364    Movie  The Road to El Camino: Behind the Scenes of El...   \n",
              "3571  TV Show                                         Hyperdrive   \n",
              "5630    Movie                                        Take the 10   \n",
              "2810    Movie                                        Bypass Road   \n",
              "6930  TV Show                    Harold Shipman - Driven to Kill   \n",
              "\n",
              "                    Director  \\\n",
              "5002  Raúl Campos, Jan Suter   \n",
              "7021     Sam Liu, Frank Paur   \n",
              "3012                           \n",
              "1479          Cosima Spender   \n",
              "5056           Marty Callner   \n",
              "3364                           \n",
              "3571                           \n",
              "5630             Chester Tam   \n",
              "2810      Naman Nitin Mukesh   \n",
              "6930                           \n",
              "\n",
              "                                                   Cast         Country  \\\n",
              "5002                                Natalia Valdebenito           Chile   \n",
              "7021  Fred Tatasciore, Matthew Wolf, Graham McTavish...   United States   \n",
              "3012                     Angelina Kirsch, Bernd Siefert         Germany   \n",
              "1479                                                              Italy   \n",
              "5056                                     Jerry Seinfeld   United States   \n",
              "3364                                                      United States   \n",
              "3571  Rutledge Wood, Mike Hill, Michael Bisping, Lin...   United States   \n",
              "5630  Josh Peck, Tony Revolori, Kevin Corrigan, Ches...   United States   \n",
              "2810  Neil Nitin Mukesh, Adah Sharma, Rajit Kapoor, ...           India   \n",
              "6930                                     Harold Shipman  United Kingdom   \n",
              "\n",
              "      Release_year                                             Genres  \n",
              "5002          2018                                    Stand-Up Comedy  \n",
              "7021          2009               Action & Adventure, Sci-Fi & Fantasy  \n",
              "3012          2020                 International TV Shows, Reality TV  \n",
              "1479          2020  Crime TV Shows, Docuseries, International TV S...  \n",
              "5056          1998                                    Stand-Up Comedy  \n",
              "3364          2019                Documentaries, International Movies  \n",
              "3571          2019                                         Reality TV  \n",
              "5630          2017                                           Comedies  \n",
              "2810          2019                    International Movies, Thrillers  \n",
              "6930          2014       British TV Shows, Crime TV Shows, Docuseries  "
            ],
            "text/html": [
              "\n",
              "  <div id=\"df-4a483350-b65a-48ff-862b-e1384bff14c5\">\n",
              "    <div class=\"colab-df-container\">\n",
              "      <div>\n",
              "<style scoped>\n",
              "    .dataframe tbody tr th:only-of-type {\n",
              "        vertical-align: middle;\n",
              "    }\n",
              "\n",
              "    .dataframe tbody tr th {\n",
              "        vertical-align: top;\n",
              "    }\n",
              "\n",
              "    .dataframe thead th {\n",
              "        text-align: right;\n",
              "    }\n",
              "</style>\n",
              "<table border=\"1\" class=\"dataframe\">\n",
              "  <thead>\n",
              "    <tr style=\"text-align: right;\">\n",
              "      <th></th>\n",
              "      <th>Type</th>\n",
              "      <th>Title</th>\n",
              "      <th>Director</th>\n",
              "      <th>Cast</th>\n",
              "      <th>Country</th>\n",
              "      <th>Release_year</th>\n",
              "      <th>Genres</th>\n",
              "    </tr>\n",
              "  </thead>\n",
              "  <tbody>\n",
              "    <tr>\n",
              "      <th>5002</th>\n",
              "      <td>Movie</td>\n",
              "      <td>Natalia Valdebenito: El especial</td>\n",
              "      <td>Raúl Campos, Jan Suter</td>\n",
              "      <td>Natalia Valdebenito</td>\n",
              "      <td>Chile</td>\n",
              "      <td>2018</td>\n",
              "      <td>Stand-Up Comedy</td>\n",
              "    </tr>\n",
              "    <tr>\n",
              "      <th>7021</th>\n",
              "      <td>Movie</td>\n",
              "      <td>Hulk Vs.</td>\n",
              "      <td>Sam Liu, Frank Paur</td>\n",
              "      <td>Fred Tatasciore, Matthew Wolf, Graham McTavish...</td>\n",
              "      <td>United States</td>\n",
              "      <td>2009</td>\n",
              "      <td>Action &amp; Adventure, Sci-Fi &amp; Fantasy</td>\n",
              "    </tr>\n",
              "    <tr>\n",
              "      <th>3012</th>\n",
              "      <td>TV Show</td>\n",
              "      <td>Nailed It! Germany</td>\n",
              "      <td></td>\n",
              "      <td>Angelina Kirsch, Bernd Siefert</td>\n",
              "      <td>Germany</td>\n",
              "      <td>2020</td>\n",
              "      <td>International TV Shows, Reality TV</td>\n",
              "    </tr>\n",
              "    <tr>\n",
              "      <th>1479</th>\n",
              "      <td>TV Show</td>\n",
              "      <td>SanPa: Sins of the Savior</td>\n",
              "      <td>Cosima Spender</td>\n",
              "      <td></td>\n",
              "      <td>Italy</td>\n",
              "      <td>2020</td>\n",
              "      <td>Crime TV Shows, Docuseries, International TV S...</td>\n",
              "    </tr>\n",
              "    <tr>\n",
              "      <th>5056</th>\n",
              "      <td>Movie</td>\n",
              "      <td>Jerry Seinfeld: I'm Telling You for the Last Time</td>\n",
              "      <td>Marty Callner</td>\n",
              "      <td>Jerry Seinfeld</td>\n",
              "      <td>United States</td>\n",
              "      <td>1998</td>\n",
              "      <td>Stand-Up Comedy</td>\n",
              "    </tr>\n",
              "    <tr>\n",
              "      <th>3364</th>\n",
              "      <td>Movie</td>\n",
              "      <td>The Road to El Camino: Behind the Scenes of El...</td>\n",
              "      <td></td>\n",
              "      <td></td>\n",
              "      <td>United States</td>\n",
              "      <td>2019</td>\n",
              "      <td>Documentaries, International Movies</td>\n",
              "    </tr>\n",
              "    <tr>\n",
              "      <th>3571</th>\n",
              "      <td>TV Show</td>\n",
              "      <td>Hyperdrive</td>\n",
              "      <td></td>\n",
              "      <td>Rutledge Wood, Mike Hill, Michael Bisping, Lin...</td>\n",
              "      <td>United States</td>\n",
              "      <td>2019</td>\n",
              "      <td>Reality TV</td>\n",
              "    </tr>\n",
              "    <tr>\n",
              "      <th>5630</th>\n",
              "      <td>Movie</td>\n",
              "      <td>Take the 10</td>\n",
              "      <td>Chester Tam</td>\n",
              "      <td>Josh Peck, Tony Revolori, Kevin Corrigan, Ches...</td>\n",
              "      <td>United States</td>\n",
              "      <td>2017</td>\n",
              "      <td>Comedies</td>\n",
              "    </tr>\n",
              "    <tr>\n",
              "      <th>2810</th>\n",
              "      <td>Movie</td>\n",
              "      <td>Bypass Road</td>\n",
              "      <td>Naman Nitin Mukesh</td>\n",
              "      <td>Neil Nitin Mukesh, Adah Sharma, Rajit Kapoor, ...</td>\n",
              "      <td>India</td>\n",
              "      <td>2019</td>\n",
              "      <td>International Movies, Thrillers</td>\n",
              "    </tr>\n",
              "    <tr>\n",
              "      <th>6930</th>\n",
              "      <td>TV Show</td>\n",
              "      <td>Harold Shipman - Driven to Kill</td>\n",
              "      <td></td>\n",
              "      <td>Harold Shipman</td>\n",
              "      <td>United Kingdom</td>\n",
              "      <td>2014</td>\n",
              "      <td>British TV Shows, Crime TV Shows, Docuseries</td>\n",
              "    </tr>\n",
              "  </tbody>\n",
              "</table>\n",
              "</div>\n",
              "      <button class=\"colab-df-convert\" onclick=\"convertToInteractive('df-4a483350-b65a-48ff-862b-e1384bff14c5')\"\n",
              "              title=\"Convert this dataframe to an interactive table.\"\n",
              "              style=\"display:none;\">\n",
              "        \n",
              "  <svg xmlns=\"http://www.w3.org/2000/svg\" height=\"24px\"viewBox=\"0 0 24 24\"\n",
              "       width=\"24px\">\n",
              "    <path d=\"M0 0h24v24H0V0z\" fill=\"none\"/>\n",
              "    <path d=\"M18.56 5.44l.94 2.06.94-2.06 2.06-.94-2.06-.94-.94-2.06-.94 2.06-2.06.94zm-11 1L8.5 8.5l.94-2.06 2.06-.94-2.06-.94L8.5 2.5l-.94 2.06-2.06.94zm10 10l.94 2.06.94-2.06 2.06-.94-2.06-.94-.94-2.06-.94 2.06-2.06.94z\"/><path d=\"M17.41 7.96l-1.37-1.37c-.4-.4-.92-.59-1.43-.59-.52 0-1.04.2-1.43.59L10.3 9.45l-7.72 7.72c-.78.78-.78 2.05 0 2.83L4 21.41c.39.39.9.59 1.41.59.51 0 1.02-.2 1.41-.59l7.78-7.78 2.81-2.81c.8-.78.8-2.07 0-2.86zM5.41 20L4 18.59l7.72-7.72 1.47 1.35L5.41 20z\"/>\n",
              "  </svg>\n",
              "      </button>\n",
              "      \n",
              "  <style>\n",
              "    .colab-df-container {\n",
              "      display:flex;\n",
              "      flex-wrap:wrap;\n",
              "      gap: 12px;\n",
              "    }\n",
              "\n",
              "    .colab-df-convert {\n",
              "      background-color: #E8F0FE;\n",
              "      border: none;\n",
              "      border-radius: 50%;\n",
              "      cursor: pointer;\n",
              "      display: none;\n",
              "      fill: #1967D2;\n",
              "      height: 32px;\n",
              "      padding: 0 0 0 0;\n",
              "      width: 32px;\n",
              "    }\n",
              "\n",
              "    .colab-df-convert:hover {\n",
              "      background-color: #E2EBFA;\n",
              "      box-shadow: 0px 1px 2px rgba(60, 64, 67, 0.3), 0px 1px 3px 1px rgba(60, 64, 67, 0.15);\n",
              "      fill: #174EA6;\n",
              "    }\n",
              "\n",
              "    [theme=dark] .colab-df-convert {\n",
              "      background-color: #3B4455;\n",
              "      fill: #D2E3FC;\n",
              "    }\n",
              "\n",
              "    [theme=dark] .colab-df-convert:hover {\n",
              "      background-color: #434B5C;\n",
              "      box-shadow: 0px 1px 3px 1px rgba(0, 0, 0, 0.15);\n",
              "      filter: drop-shadow(0px 1px 2px rgba(0, 0, 0, 0.3));\n",
              "      fill: #FFFFFF;\n",
              "    }\n",
              "  </style>\n",
              "\n",
              "      <script>\n",
              "        const buttonEl =\n",
              "          document.querySelector('#df-4a483350-b65a-48ff-862b-e1384bff14c5 button.colab-df-convert');\n",
              "        buttonEl.style.display =\n",
              "          google.colab.kernel.accessAllowed ? 'block' : 'none';\n",
              "\n",
              "        async function convertToInteractive(key) {\n",
              "          const element = document.querySelector('#df-4a483350-b65a-48ff-862b-e1384bff14c5');\n",
              "          const dataTable =\n",
              "            await google.colab.kernel.invokeFunction('convertToInteractive',\n",
              "                                                     [key], {});\n",
              "          if (!dataTable) return;\n",
              "\n",
              "          const docLinkHtml = 'Like what you see? Visit the ' +\n",
              "            '<a target=\"_blank\" href=https://colab.research.google.com/notebooks/data_table.ipynb>data table notebook</a>'\n",
              "            + ' to learn more about interactive tables.';\n",
              "          element.innerHTML = '';\n",
              "          dataTable['output_type'] = 'display_data';\n",
              "          await google.colab.output.renderOutput(dataTable, element);\n",
              "          const docLink = document.createElement('div');\n",
              "          docLink.innerHTML = docLinkHtml;\n",
              "          element.appendChild(docLink);\n",
              "        }\n",
              "      </script>\n",
              "    </div>\n",
              "  </div>\n",
              "  "
            ]
          },
          "metadata": {},
          "execution_count": 141
        }
      ]
    },
    {
      "cell_type": "markdown",
      "source": [
        "**After performing exploratory data analysis and data cleaning, the Netflix dataset is now ready for building models such as clustering or recommendation systems. These models can be developed based on the attributes and features of the dataset that are relevant to the specific business problem.**"
      ],
      "metadata": {
        "id": "Al2bA2vlAhrQ"
      }
    },
    {
      "cell_type": "markdown",
      "source": [
        "## **5. Conclusion**\n",
        "- Netflix has a diverse range of content, including a mix of movies and TV shows from various genres, regions, and languages. This variety of content can attract viewers with different preferences and interests.\n",
        "\n",
        "- The highest number of productions are based out of the United States, India, and the United Kingdom. Netflix can consider investing in creating more content from these regions to cater to viewers' interests.\n",
        "\n",
        "- Viewership trends suggest that most people prefer watching movies over TV shows, especially in the age group of 18-30 who are busy with their work. Netflix can consider offering more movie options to cater to these customer preferences.\n",
        "\n",
        "- The most common words in movie titles are \"love,\" \"life,\" \"man,\" \"girl,\" \"story,\" and \"world.\" These words reflect the common themes and topics explored in movies and can provide insight into viewer interests.\n",
        "\n",
        "- Voice actors like Takahiro Sakurai, Yuki Kaji, and Daisuke Ono are popular in TV shows, while actors like Anupam Kher, Shahrukh Khan, and Naseeruddin Shah are popular in movies. Netflix can leverage the popularity of these actors by featuring them in their content or working with them in future productions to potentially attract viewers who are fans of their work.\n",
        "\n",
        "Overall, Netflix can continue to focus on creating diverse and engaging content from popular regions and genres to attract more viewers and increase the success of their productions.\n",
        "\n",
        "\n",
        "\n",
        "\n"
      ],
      "metadata": {
        "id": "EPaAe1eJh5IX"
      }
    },
    {
      "cell_type": "markdown",
      "source": [
        "```\n",
        "a.  Which are the top 5 directors who produce most of the movies only?\n",
        "-->     Rajiv Chilaka             19  \n",
        "        Raúl Campos, Jan Suter    18\n",
        "        Suhas Kadav               16\n",
        "        Marcus Raboy              15\n",
        "        Jay Karas                 14\n",
        "\n",
        "b.  Which are the top 5 genres which are liked by people or here liking means listed on the portal of Netflix (you can find a count for each genre and list the top 5 genres) for movies and TV shows?\n",
        "-->     International Movies\t      2752\n",
        "        Dramas\t                    2427\n",
        "        Comedies\t                  1674\n",
        "        International TV Shows\t    1351\n",
        "        Documentaries\t              869\n",
        "\n",
        "c.  Which 2 directors should Netflix collaborate with more based on the increase in their movies or tv shows over the past years? [OPTIONAL]\n",
        "-->     Rajiv Chilaka       22\n",
        "        Jan Suter           21\n",
        "\n",
        "d. Which are the top 10 actors who are liked by people and have the most content on the Netflix OTT platform.\n",
        "-->     Anupam Kher         43\n",
        "        Shah Rukh Khan      35\n",
        "        Julie Tejwani       33\n",
        "        Naseeruddin Shah    32\n",
        "        Takahiro Sakurai    32\n",
        "        Rupa Bhimani        31\n",
        "        Akshay Kumar        30\n",
        "        Om Puri             30\n",
        "        Yuki Kaji           29\n",
        "        Paresh Rawal        28\n",
        "\n",
        "e.  Which 2 actors should Netflix collaborate with more based on the increase in their movies or tv shows over the past years? [OPTIONAL]\n",
        "-->     Anupam Kher         43\n",
        "        Shah Rukh Khan      35\n",
        "```\n",
        "\n"
      ],
      "metadata": {
        "id": "3U3rsOyeE5u4"
      }
    }
  ]
}